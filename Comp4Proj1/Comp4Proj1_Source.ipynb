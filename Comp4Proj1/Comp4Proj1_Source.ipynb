{
 "cells": [
  {
   "cell_type": "markdown",
   "id": "de104812",
   "metadata": {},
   "source": [
    "## Import Statements"
   ]
  },
  {
   "cell_type": "code",
   "execution_count": 1,
   "id": "f00e323e-f5e8-41d2-b104-a82550ae20a6",
   "metadata": {},
   "outputs": [],
   "source": [
    "# Import Required Modules.\n",
    "import numpy as np\n",
    "import pandas as pd\n",
    "import matplotlib.pyplot as plt\n",
    "import seaborn as sns\n",
    "\n",
    "# Classifers\n",
    "from sklearn.linear_model import SGDClassifier\n",
    "from sklearn.ensemble import ExtraTreesClassifier, VotingClassifier\n",
    "from sklearn.neighbors import KNeighborsClassifier\n",
    "\n",
    "# Utility tools\n",
    "import time\n",
    "from sklearn.model_selection import train_test_split\n",
    "from sklearn.metrics import accuracy_score\n",
    "from sklearn.decomposition import PCA\n",
    "\n",
    "\n",
    "import warnings\n",
    "warnings.filterwarnings('ignore')"
   ]
  },
  {
   "cell_type": "markdown",
   "id": "ffd9c478",
   "metadata": {},
   "source": [
    "## Load Datasets"
   ]
  },
  {
   "cell_type": "code",
   "execution_count": 2,
   "id": "0bc48ef9",
   "metadata": {},
   "outputs": [],
   "source": [
    "# loads mnist dataset \n",
    "from sklearn.datasets import fetch_openml\n",
    "mnist = fetch_openml('mnist_784', version=1)"
   ]
  },
  {
   "cell_type": "code",
   "execution_count": 3,
   "id": "beb45544",
   "metadata": {},
   "outputs": [],
   "source": [
    "# loads student-performance dataset\n",
    "studentData = pd.read_csv('students-performance.csv', delimiter = ';')"
   ]
  },
  {
   "cell_type": "markdown",
   "id": "c943484b",
   "metadata": {},
   "source": [
    "## Utility Functions"
   ]
  },
  {
   "cell_type": "markdown",
   "id": "292061f1",
   "metadata": {},
   "source": [
    "The below function is splits a dataset into training, validation, and test sets"
   ]
  },
  {
   "cell_type": "code",
   "execution_count": 4,
   "id": "771e1300-b4ec-4649-ac4b-d8dcc8870fbf",
   "metadata": {},
   "outputs": [],
   "source": [
    "# function that splits dataset into training, validation, and test sets\n",
    "# arguements are X features and y targets of dataset\n",
    "# the test_size and validate_size to used to to determine to how many dataset instances are to be use for these sets\n",
    "def split_dataset(X, y, test_size, validate_size):\n",
    "    \n",
    "    X_train, X_test, y_train, y_test = train_test_split(X, y, test_size=test_size, random_state=72, shuffle=True)\n",
    "    X_train, X_validate, y_train, y_validate = train_test_split(X_train, y_train, test_size=validate_size, random_state=72, shuffle=True)\n",
    "\n",
    "    return X_train, X_test, X_validate, y_train, y_test, y_validate"
   ]
  },
  {
   "cell_type": "markdown",
   "id": "1f07fded",
   "metadata": {},
   "source": [
    "The function below uses accuracy_score to find the percentage metric of accuracy of a given classifier. It returns the score to caller."
   ]
  },
  {
   "cell_type": "code",
   "execution_count": 5,
   "id": "f751db5c",
   "metadata": {},
   "outputs": [],
   "source": [
    "# function used to test clf performance\n",
    "# arguements are the classifier as clf, the test feature set and target used to gauge performance\n",
    "def test_clf(clf, X_test, y_test):\n",
    "     \n",
    "     # score recorded\n",
    "     y_pred = clf.predict(X_test)\n",
    "     score = accuracy_score(y_test, y_pred)\n",
    "    \n",
    "     # prints clf score\n",
    "     return score"
   ]
  },
  {
   "cell_type": "markdown",
   "id": "84743441",
   "metadata": {},
   "source": [
    "The function below trains a given classifier and records the amount of time taken to train it. It returns a trained classifier to the caller."
   ]
  },
  {
   "cell_type": "code",
   "execution_count": 6,
   "id": "b44a9dd7",
   "metadata": {},
   "outputs": [],
   "source": [
    "# function used to train clf\n",
    "# arguements are the classifier and the training set (X_train and y_train) used to train the classifier\n",
    "def train_clf(clf, X_train, y_train):\n",
    "    \n",
    "    # time prior to clf training\n",
    "    t0 = time.time()\n",
    "    # clf training\n",
    "    clf.fit(X_train, y_train)\n",
    "    # time after clf training\n",
    "    t1 = time.time()\n",
    "    # end time minus start time gives training time\n",
    "    trainTime = t1 - t0\n",
    "    \n",
    "    # prints training time \n",
    "    print(clf.__class__.__name__, \"training time:\", trainTime)\n",
    "    \n",
    "    return clf"
   ]
  },
  {
   "cell_type": "markdown",
   "id": "f74e861d",
   "metadata": {},
   "source": [
    "# MNIST Dataset"
   ]
  },
  {
   "cell_type": "markdown",
   "id": "acb4c3e0",
   "metadata": {},
   "source": [
    "As per instructed, I will use the MNIST dataset for the first part of this assignment"
   ]
  },
  {
   "cell_type": "markdown",
   "id": "612cb00d",
   "metadata": {},
   "source": [
    "## Preprocessing MNIST Dataset"
   ]
  },
  {
   "cell_type": "markdown",
   "id": "36a4adcf",
   "metadata": {},
   "source": [
    "#### PCA"
   ]
  },
  {
   "cell_type": "markdown",
   "id": "13cf658e",
   "metadata": {},
   "source": [
    "Because the MNIST Dataset is so large, I will be using PCA here to reduce down its number of features to speed up training time for my classifiers. I am assigning this reduced set to variable X_reduced. I have chosen to use .95 for n_components as this was suggested in our course text book to be used.  "
   ]
  },
  {
   "cell_type": "code",
   "execution_count": 7,
   "id": "0a16ed7f",
   "metadata": {},
   "outputs": [],
   "source": [
    "pca = PCA(n_components=0.95)\n",
    "X_reduced = pca.fit_transform(mnist['data'])"
   ]
  },
  {
   "cell_type": "markdown",
   "id": "c779cb67",
   "metadata": {},
   "source": [
    "##### None Reduced Set"
   ]
  },
  {
   "cell_type": "markdown",
   "id": "bd6384ff",
   "metadata": {},
   "source": [
    "Here I am assigning a none reduced mnist feature set to variable X so that I can compare its preformance to using the X_reduced set in my various classifiers"
   ]
  },
  {
   "cell_type": "code",
   "execution_count": 8,
   "id": "d1c4d9d3",
   "metadata": {},
   "outputs": [],
   "source": [
    "X = mnist['data']"
   ]
  },
  {
   "cell_type": "markdown",
   "id": "d989e25e",
   "metadata": {},
   "source": [
    "##### Target values"
   ]
  },
  {
   "cell_type": "markdown",
   "id": "e49e3c9b",
   "metadata": {},
   "source": [
    "Here I am assigning the target values to variable y to use both for my X_reduced and X datasets"
   ]
  },
  {
   "cell_type": "code",
   "execution_count": 9,
   "id": "a7a7beae",
   "metadata": {},
   "outputs": [],
   "source": [
    "# dataset labels \n",
    "y = mnist['target']"
   ]
  },
  {
   "cell_type": "markdown",
   "id": "527de1f2",
   "metadata": {},
   "source": [
    "Here I am splitting my non reduced X dataset into a training set, validation set, and test set. As instructed, both the test and validation sets will both have 10,000 dataset instances each to work with. To do this, the split_dataset function is called with X and y as arguements, as well as 10,000 dataset instances for the test_size and validate_size arguments.  "
   ]
  },
  {
   "cell_type": "code",
   "execution_count": 10,
   "id": "75a7a2a0-c577-44b4-b494-399db74c29d6",
   "metadata": {},
   "outputs": [],
   "source": [
    "# splits dataset into training, validation, and test sets\n",
    "X_train, X_test, X_validate, y_train, y_test, y_validate = split_dataset(X, y, test_size=10000, validate_size=10000)"
   ]
  },
  {
   "cell_type": "markdown",
   "id": "2ae462ad",
   "metadata": {},
   "source": [
    "Here I am splitting my reduced dataset in the same way I split my none reduced dataset above. The all variable names have _rdc added to the end of their names to signify that they were created with a PCA reduced mnist dataset "
   ]
  },
  {
   "cell_type": "code",
   "execution_count": 11,
   "id": "eb025e43",
   "metadata": {},
   "outputs": [],
   "source": [
    "X_train_rdc, X_test_rdc, X_validate_rdc, y_train_rdc, y_test_rdc, y_validate_rdc = split_dataset(X_reduced, y, test_size=10000, validate_size=10000)"
   ]
  },
  {
   "cell_type": "markdown",
   "id": "5cf4bf00",
   "metadata": {},
   "source": [
    "## Training and testing of individual classifiers"
   ]
  },
  {
   "cell_type": "markdown",
   "id": "c480992a",
   "metadata": {},
   "source": [
    "### Stochastic Gradient Descent (SGD) Classifier"
   ]
  },
  {
   "cell_type": "markdown",
   "id": "5333caa6",
   "metadata": {},
   "source": [
    "I am using the Stochastic Gradient Decent Classifier because our course textbook stated, \"This classifier has the advantage of being capable of handling very large datasets efficiently.\". Because the MNIST dataset is very large, I will test its performance here. \n",
    "\n",
    "Here a SDGClassifier is declared with a random state to keep its results reproducible. After, the train_clf function is called with both the dataset and target values as arguements. The train_clf returns the accuracy score of the test\n",
    "\n",
    "I will start with the normal non reduced dataset to train and test the SDG Classifier\n",
    "\n",
    "NOTE - I had to set the SGDClassifiers loss parameter to modified_huber so that it would be able to give me a probability output for the soft Voting Classifier"
   ]
  },
  {
   "cell_type": "markdown",
   "id": "83472ded",
   "metadata": {},
   "source": [
    "##### Non Reduced Dataset"
   ]
  },
  {
   "cell_type": "code",
   "execution_count": 12,
   "id": "322a1661",
   "metadata": {},
   "outputs": [
    {
     "name": "stdout",
     "output_type": "stream",
     "text": [
      "SGDClassifier training time: 79.29604625701904\n"
     ]
    }
   ],
   "source": [
    "# creation and training of SDG Classifier\n",
    "sgd_clf = SGDClassifier(random_state=27, loss='modified_huber')\n",
    "sgd_clf = train_clf(sgd_clf, X_train, y_train)"
   ]
  },
  {
   "cell_type": "markdown",
   "id": "0e0a5674",
   "metadata": {},
   "source": [
    "After training, the classifier is tested with the validation set. test_clf is used to save the accuracy score from its test"
   ]
  },
  {
   "cell_type": "code",
   "execution_count": 13,
   "id": "3b42efde",
   "metadata": {},
   "outputs": [
    {
     "name": "stdout",
     "output_type": "stream",
     "text": [
      "SGDClassifier score:  0.887\n"
     ]
    }
   ],
   "source": [
    "# testing of SDG Classifier\n",
    "sdg_result = test_clf(sgd_clf, X_validate, y_validate)\n",
    "print(sgd_clf.__class__.__name__, \"score: \", sdg_result)"
   ]
  },
  {
   "cell_type": "markdown",
   "id": "36f6aa51",
   "metadata": {},
   "source": [
    "##### Reduced Dataset"
   ]
  },
  {
   "cell_type": "markdown",
   "id": "bc33963e",
   "metadata": {},
   "source": [
    "Next I will try again with the PCA reduced training and validation sets"
   ]
  },
  {
   "cell_type": "code",
   "execution_count": 14,
   "id": "1ad02bf6",
   "metadata": {},
   "outputs": [
    {
     "name": "stdout",
     "output_type": "stream",
     "text": [
      "SGDClassifier training time: 17.81410789489746\n"
     ]
    }
   ],
   "source": [
    "# creation and training of SDG Classifier using reduced set\n",
    "sgd_clf_rdc = SGDClassifier(random_state=27, loss='modified_huber')\n",
    "sgd_clf_rdc = train_clf(sgd_clf_rdc, X_train_rdc, y_train_rdc)"
   ]
  },
  {
   "cell_type": "code",
   "execution_count": 15,
   "id": "e4bb6e62",
   "metadata": {},
   "outputs": [
    {
     "name": "stdout",
     "output_type": "stream",
     "text": [
      "SGDClassifier score:  0.887\n"
     ]
    }
   ],
   "source": [
    "# testing of SDG Classifier\n",
    "sgd_rdc_result = test_clf(sgd_clf_rdc, X_validate_rdc, y_validate_rdc)\n",
    "print(sgd_clf_rdc.__class__.__name__, \"score: \", sgd_rdc_result)"
   ]
  },
  {
   "cell_type": "markdown",
   "id": "8b6b0ff8",
   "metadata": {},
   "source": [
    "The results show that the reduced set is several times faster than the normal set when used to train the SGD Classifier and scored the same as the normal set. It appears that using the PCA is a great choice here."
   ]
  },
  {
   "cell_type": "markdown",
   "id": "08cb7ae9",
   "metadata": {},
   "source": [
    "### KNeighbors Classifier"
   ]
  },
  {
   "cell_type": "markdown",
   "id": "9e4236fc",
   "metadata": {},
   "source": [
    "I am testing the KNeighbors Classifier here as an example of using multilabel classification. Because our text book discusses the idea of using multilabel classification for facical-recognition, I am curious to see how it performs comparing written numbers in the MNIST dataset.\n",
    "\n",
    "Here a KNeighbors Classifier is declared and is given normal training data to be trained with. As already stated, the train_clf function returns the accuracy score of the test it preformed.\n",
    "\n",
    "I will start by training the Kneighbor classifier with the normal training set and then test it with the normal validation set"
   ]
  },
  {
   "cell_type": "markdown",
   "id": "bc3bb22e",
   "metadata": {},
   "source": [
    "##### Non Reduced Dataset"
   ]
  },
  {
   "cell_type": "code",
   "execution_count": 16,
   "id": "0ee669be",
   "metadata": {},
   "outputs": [
    {
     "name": "stdout",
     "output_type": "stream",
     "text": [
      "KNeighborsClassifier training time: 0.08507728576660156\n"
     ]
    }
   ],
   "source": [
    "# creation and training of KNeighbors Classifier \n",
    "knn_clf = KNeighborsClassifier()\n",
    "knn_clf = train_clf(knn_clf, X_train, y_train)"
   ]
  },
  {
   "cell_type": "code",
   "execution_count": 17,
   "id": "41707052",
   "metadata": {},
   "outputs": [
    {
     "name": "stdout",
     "output_type": "stream",
     "text": [
      "KNeighborsClassifier score:  0.9693\n"
     ]
    }
   ],
   "source": [
    "# testing of KNeighbors Classifier \n",
    "knn_result = test_clf(knn_clf, X_validate, y_validate)\n",
    "print(knn_clf.__class__.__name__, \"score: \", knn_result)"
   ]
  },
  {
   "cell_type": "markdown",
   "id": "416018bf",
   "metadata": {},
   "source": [
    "##### Reduced Dataset"
   ]
  },
  {
   "cell_type": "markdown",
   "id": "99903b91",
   "metadata": {},
   "source": [
    "Next I will try again with the PCA reduced training and validation sets"
   ]
  },
  {
   "cell_type": "code",
   "execution_count": 18,
   "id": "8949d94c",
   "metadata": {},
   "outputs": [
    {
     "name": "stdout",
     "output_type": "stream",
     "text": [
      "KNeighborsClassifier training time: 0.03503227233886719\n"
     ]
    }
   ],
   "source": [
    "# creation and training of KNeighbors Classifier with reduced set \n",
    "knn_clf_rdc = KNeighborsClassifier()\n",
    "knn_clf_rdc = train_clf(knn_clf_rdc, X_train_rdc, y_train_rdc)"
   ]
  },
  {
   "cell_type": "code",
   "execution_count": 19,
   "id": "a971b54d",
   "metadata": {},
   "outputs": [
    {
     "name": "stdout",
     "output_type": "stream",
     "text": [
      "KNeighborsClassifier score:  0.971\n"
     ]
    }
   ],
   "source": [
    "# test of KNeighbor Classifier\n",
    "knn_rdc_result = test_clf(knn_clf_rdc, X_validate_rdc, y_validate_rdc)\n",
    "print(knn_clf_rdc.__class__.__name__, \"score: \", knn_rdc_result)"
   ]
  },
  {
   "cell_type": "markdown",
   "id": "80dcc85b",
   "metadata": {},
   "source": [
    "The results show that the reduced set is twice as fast as the normal set when used to train the KNeighbor Classifier and is also more accurate than the normal set. In addition, PCA reduction leads to better performance than using the normal set. Using the PCA reduced set works wonderful here."
   ]
  },
  {
   "cell_type": "markdown",
   "id": "0348df06",
   "metadata": {},
   "source": [
    "### Extra Trees Classifier"
   ]
  },
  {
   "cell_type": "markdown",
   "id": "e5df0f17",
   "metadata": {},
   "source": [
    "For the final classifier I will be testing (Besides the Voting Classifier), I chose to use the Extra Tree Classifier. The book states that Extra-Trees are much faster to train than Random Forests and since this is such a large dataset, this seems like a good idea. In addition, I wanted to have a sampling from as many different types of classifiers to use for my Voting Classifier to see how well they all work together.\n",
    "\n",
    "Here a ExtreeTreesClassifier is delcared, using a random state to keep the results reproducible.\n",
    "\n",
    "Like I have done before, I will start by training my Extra Tree Classifier with the non reduced dataset and then test with the none reduced validation set. "
   ]
  },
  {
   "cell_type": "markdown",
   "id": "6525885e",
   "metadata": {},
   "source": [
    "##### Non Reduced Dataset"
   ]
  },
  {
   "cell_type": "code",
   "execution_count": 20,
   "id": "69eba19d-305a-470b-b6ce-03ccf02fffd1",
   "metadata": {},
   "outputs": [
    {
     "name": "stdout",
     "output_type": "stream",
     "text": [
      "ExtraTreesClassifier training time: 26.507180213928223\n"
     ]
    }
   ],
   "source": [
    "# creation and training of Extra Trees Classifier \n",
    "extr_clf = ExtraTreesClassifier(random_state=42)\n",
    "extr_clf = train_clf(extr_clf, X_train, y_train)"
   ]
  },
  {
   "cell_type": "code",
   "execution_count": 21,
   "id": "84b82cf5",
   "metadata": {},
   "outputs": [
    {
     "name": "stdout",
     "output_type": "stream",
     "text": [
      "ExtraTreesClassifier score:  0.9683\n"
     ]
    }
   ],
   "source": [
    "# testing of Extra Trees Classifier\n",
    "extr_result = test_clf(extr_clf, X_validate, y_validate)\n",
    "print(extr_clf.__class__.__name__, \"score: \", extr_result)"
   ]
  },
  {
   "cell_type": "markdown",
   "id": "41232984",
   "metadata": {},
   "source": [
    "##### Reduced Dataset"
   ]
  },
  {
   "cell_type": "markdown",
   "id": "45352ede",
   "metadata": {},
   "source": [
    "Next I will try again with the PCA reduced training and validation sets"
   ]
  },
  {
   "cell_type": "code",
   "execution_count": 22,
   "id": "2c25f1d3",
   "metadata": {},
   "outputs": [
    {
     "name": "stdout",
     "output_type": "stream",
     "text": [
      "ExtraTreesClassifier training time: 12.672454357147217\n"
     ]
    }
   ],
   "source": [
    "# creation and training of Extra Trees Classifier \n",
    "extr_clf_rdc = ExtraTreesClassifier(random_state=42)\n",
    "extr_clf_rdc = train_clf(extr_clf_rdc, X_train_rdc, y_train_rdc)"
   ]
  },
  {
   "cell_type": "code",
   "execution_count": 23,
   "id": "84d32cd6",
   "metadata": {},
   "outputs": [
    {
     "name": "stdout",
     "output_type": "stream",
     "text": [
      "ExtraTreesClassifier score:  0.9465\n"
     ]
    }
   ],
   "source": [
    "# testing of Extra Tree classifier with reduced dataset\n",
    "extr_rdc_result = test_clf(extr_clf_rdc, X_validate_rdc, y_validate_rdc)\n",
    "print(extr_clf_rdc.__class__.__name__, \"score: \", extr_rdc_result)"
   ]
  },
  {
   "cell_type": "markdown",
   "id": "cf69c296",
   "metadata": {},
   "source": [
    "This time, the reduced dataset was twice as fast to train, however, it did have a sight reduction in its accuracy score. Given that the training time for the normal set wasn't that much longer, It would appear using the normal set would be a better option here. "
   ]
  },
  {
   "cell_type": "markdown",
   "id": "09107af5",
   "metadata": {},
   "source": [
    "#### Initial Results"
   ]
  },
  {
   "cell_type": "markdown",
   "id": "2fa4879f",
   "metadata": {},
   "source": [
    "The PCA reduced dataset took much less time to train all of the datasets, but I will compare their accuracy scores here.\n",
    "\n",
    "First I will review the accuracy scores from the normal non reduced dataset:"
   ]
  },
  {
   "cell_type": "code",
   "execution_count": 24,
   "id": "4a9c0227",
   "metadata": {},
   "outputs": [
    {
     "name": "stdout",
     "output_type": "stream",
     "text": [
      "SGDClassifier score:  0.887\n",
      "KNeighborsClassifier score:  0.9693\n",
      "ExtraTreesClassifier score:  0.9683\n"
     ]
    }
   ],
   "source": [
    "print(sgd_clf.__class__.__name__, \"score: \", sdg_result)\n",
    "print(knn_clf.__class__.__name__, \"score: \", knn_result)\n",
    "print(extr_clf.__class__.__name__, \"score: \", extr_result)"
   ]
  },
  {
   "cell_type": "markdown",
   "id": "6fade97f",
   "metadata": {},
   "source": [
    "Now let us look at the accuracy scores for the PCA reduced datasets used by the same classifiers: "
   ]
  },
  {
   "cell_type": "code",
   "execution_count": 25,
   "id": "db492905",
   "metadata": {},
   "outputs": [
    {
     "name": "stdout",
     "output_type": "stream",
     "text": [
      "SGDClassifier score:  0.887\n",
      "KNeighborsClassifier score:  0.971\n",
      "ExtraTreesClassifier score:  0.9465\n"
     ]
    }
   ],
   "source": [
    "print(sgd_clf_rdc.__class__.__name__, \"score: \", sgd_rdc_result)\n",
    "print(knn_clf_rdc.__class__.__name__, \"score: \", knn_rdc_result)\n",
    "print(extr_clf_rdc.__class__.__name__, \"score: \", extr_rdc_result)"
   ]
  },
  {
   "cell_type": "markdown",
   "id": "2e0f96ae",
   "metadata": {},
   "source": [
    "Because it offers faster training time and mostly better accuracy results, I will be using the PCA reduced dataset for my voting classifier. Currently the best individual performer on the MNIST data so far is the KNeighbors classifier.\n",
    "\n",
    "\n",
    "As instructed, I will be using a ensemble classifier that can do both hard and soft voting strategies. For this I have will using a Voting Classifier and will use a SGD Classifier, KNeighbors Classifier, and Extra Trees Classifier in its ensemble. I will then test each voting classifier against each individual classifier with the test set."
   ]
  },
  {
   "cell_type": "markdown",
   "id": "269d4421",
   "metadata": {},
   "source": [
    "### Voting Classifier (hard)"
   ]
  },
  {
   "cell_type": "markdown",
   "id": "2500952b",
   "metadata": {},
   "source": [
    "With Voting Classifier's vote setting set to hard, each trained classifier in the ensemble will vote when making a prediction. Whichever option has the highest number of votes is choosen as the prediction on a given instance. \n",
    "\n",
    "Again, I am going to be using the reduced dataset for training and testing of the voting classifier. \n",
    "\n",
    "NOTE - I had to set the SGDClassifiers loss parameter to modified_huber so that it would be able to give me a probability output for the soft Voting Classifier."
   ]
  },
  {
   "cell_type": "code",
   "execution_count": 26,
   "id": "20b46cc0-e3b6-4dc3-90f2-159965b8ec29",
   "metadata": {},
   "outputs": [
    {
     "name": "stdout",
     "output_type": "stream",
     "text": [
      "VotingClassifier training time: 30.216331005096436\n"
     ]
    }
   ],
   "source": [
    "# creation of new classifiers used for Voting Classifier\n",
    "sgd_clf_hard = SGDClassifier(random_state=27, loss='modified_huber')\n",
    "knnV_clf_hard = KNeighborsClassifier()\n",
    "extrV_clf_hard = ExtraTreesClassifier(random_state=42)\n",
    "\n",
    "# creation and training of Voting Classifier using SDG, KNeighbors, and Extra Trees\n",
    "# voting setting set to hard\n",
    "hard_voting_clf = VotingClassifier(\n",
    "    estimators=[('sgd', sgd_clf_hard),('kn', knnV_clf_hard), ('et', extrV_clf_hard)],\n",
    "    voting='hard')\n",
    "\n",
    "# training of the hard Voting Classifier\n",
    "hard_voting_clf = train_clf(hard_voting_clf, X_train_rdc, y_train_rdc)"
   ]
  },
  {
   "cell_type": "markdown",
   "id": "7f561833",
   "metadata": {},
   "source": [
    "Here I am testing the hard Voting classifier with the validation set"
   ]
  },
  {
   "cell_type": "code",
   "execution_count": 27,
   "id": "6caa128e-750b-4a6e-8cf2-ff7ac9faeb6a",
   "metadata": {},
   "outputs": [
    {
     "name": "stdout",
     "output_type": "stream",
     "text": [
      "VotingClassifier score:  0.9561\n"
     ]
    }
   ],
   "source": [
    "# testing of Hard Voting Classifier and printing result\n",
    "hard_voting_result = test_clf(hard_voting_clf, X_validate_rdc, y_validate_rdc)\n",
    "print(hard_voting_clf.__class__.__name__, \"score: \", hard_voting_result)"
   ]
  },
  {
   "cell_type": "markdown",
   "id": "d8b4e3b1",
   "metadata": {},
   "source": [
    "Unfortuntely, the result of the hard Voting classifier performs sightly worse than the KNeighbors Classifier\n",
    "\n",
    "I will next try the Voting Classifier with the voting setting set to soft"
   ]
  },
  {
   "cell_type": "markdown",
   "id": "f88735ef",
   "metadata": {},
   "source": [
    "### Voting Classifier (soft)"
   ]
  },
  {
   "cell_type": "markdown",
   "id": "54542f76",
   "metadata": {},
   "source": [
    "With Voting Classifier's voting setting set to soft , each trained classifier in the ensemble will present a probability score when making a prediction. The classifier with the highest probability score is picked when making a prediction. \n",
    "\n",
    "Here I am training a new Voting classifier with the voting setting set to soft. I will be declaring new classifiers and a new voting classifier here.\n",
    "\n",
    "NOTE - I had to set the SGDClassifiers loss parameter to modified_huber so that it would be able to give me a probability output for the soft Voting Classifier. "
   ]
  },
  {
   "cell_type": "code",
   "execution_count": 28,
   "id": "b7904a49-139f-467b-9746-49331d697d4b",
   "metadata": {},
   "outputs": [
    {
     "name": "stdout",
     "output_type": "stream",
     "text": [
      "VotingClassifier training time: 30.777215719223022\n"
     ]
    }
   ],
   "source": [
    "# creation of new classifiers used for Voting Classifier\n",
    "sgd_clf_soft = SGDClassifier(random_state=27, loss='modified_huber')\n",
    "knnV_clf_soft = KNeighborsClassifier()\n",
    "extr_clf_soft = ExtraTreesClassifier(random_state=42)\n",
    "\n",
    "\n",
    "#  creation of voting classifier with soft voting setting\n",
    "soft_voting_clf = VotingClassifier(\n",
    "    estimators=[('sgd', sgd_clf_soft),('kn', knnV_clf_soft), ('et', extr_clf_soft)],\n",
    "    voting='soft')\n",
    "\n",
    "# training soft voting classifier with reduced dataset\n",
    "soft_voting_clf = train_clf(soft_voting_clf, X_train_rdc, y_train_rdc)"
   ]
  },
  {
   "cell_type": "markdown",
   "id": "0cba6841",
   "metadata": {},
   "source": [
    "Here I am testing the VotingClassifier with the validation set"
   ]
  },
  {
   "cell_type": "code",
   "execution_count": 29,
   "id": "9bb71d47-54f8-4ede-84fb-24c114486458",
   "metadata": {},
   "outputs": [
    {
     "name": "stdout",
     "output_type": "stream",
     "text": [
      "VotingClassifier score:  0.9612\n"
     ]
    }
   ],
   "source": [
    "# test of Soft Voting Classifier and printing result\n",
    "soft_voting_result = test_clf(soft_voting_clf, X_validate_rdc, y_validate_rdc)\n",
    "print(soft_voting_clf.__class__.__name__, \"score: \", soft_voting_result)"
   ]
  },
  {
   "cell_type": "markdown",
   "id": "0012c302",
   "metadata": {},
   "source": [
    "The soft Voting Classifier scored better than the hard Voting Classifier so I will be using it in my final test. Unfortunately, neither the hard or soft classifiers did better than the KNeighbors classifier on the validation sets"
   ]
  },
  {
   "cell_type": "markdown",
   "id": "ecddb944",
   "metadata": {},
   "source": [
    "## Final tests of all classifiers on the MNIST dataset "
   ]
  },
  {
   "cell_type": "markdown",
   "id": "b1c2d705",
   "metadata": {},
   "source": [
    "Here I will be testing all of my classifiers with the test set. "
   ]
  },
  {
   "cell_type": "code",
   "execution_count": 30,
   "id": "dec1c677",
   "metadata": {},
   "outputs": [],
   "source": [
    "# final test of SDG Classifier\n",
    "sgd_rdc_final = test_clf(sgd_clf_rdc, X_test_rdc, y_test_rdc)"
   ]
  },
  {
   "cell_type": "code",
   "execution_count": 31,
   "id": "2b29217d",
   "metadata": {},
   "outputs": [],
   "source": [
    "# final test of KNeighbors Classifier\n",
    "knn_rdc_final = test_clf(knn_clf_rdc, X_test_rdc, y_test_rdc)"
   ]
  },
  {
   "cell_type": "code",
   "execution_count": 32,
   "id": "7a386a70",
   "metadata": {},
   "outputs": [],
   "source": [
    "# final test of Extra Trees Classifier\n",
    "extr_rdc_final = test_clf(extr_clf_rdc, X_test_rdc, y_test_rdc)"
   ]
  },
  {
   "cell_type": "code",
   "execution_count": 33,
   "id": "9b26c6db-fadd-44bd-bbce-829da9cac60e",
   "metadata": {},
   "outputs": [],
   "source": [
    "# final test of soft Voting Classifier\n",
    "soft_voting_final = test_clf(soft_voting_clf, X_test_rdc, y_test_rdc)"
   ]
  },
  {
   "cell_type": "markdown",
   "id": "2628db55",
   "metadata": {},
   "source": [
    "Final results of the testing: "
   ]
  },
  {
   "cell_type": "code",
   "execution_count": 34,
   "id": "5789de89",
   "metadata": {},
   "outputs": [
    {
     "name": "stdout",
     "output_type": "stream",
     "text": [
      "SGDClassifier score:  0.8868\n",
      "KNeighborsClassifier score:  0.9724\n",
      "ExtraTreesClassifier score:  0.9454\n",
      "VotingClassifier score:  0.9634\n"
     ]
    }
   ],
   "source": [
    "print(sgd_clf_rdc.__class__.__name__, \"score: \", sgd_rdc_final)\n",
    "print(knn_clf_rdc.__class__.__name__, \"score: \", knn_rdc_final)\n",
    "print(extr_clf_rdc.__class__.__name__, \"score: \", extr_rdc_final)\n",
    "print(soft_voting_clf.__class__.__name__, \"score: \", soft_voting_final)"
   ]
  },
  {
   "cell_type": "markdown",
   "id": "a4ee48f6",
   "metadata": {},
   "source": [
    "Unfortunately, as I saw in the validation test, the KNeighbors outperformed the Voting Classifier\n",
    "\n",
    "This is interesting as in my intial assignment I found that both the hard and soft Voting Classifiers outperformed all the other classifiers. A few changes have been made to this updated version: \n",
    "\n",
    "First I am using PCA reduction in this assignment while I did not use it before. This did increase performance of the KNeighbors classifier but did also decrease the preformance of the Extra Tree Classifier. Using the reduced dataset did speed up training but I did lose performance in my Voting Classifier\n",
    "\n",
    "Second, I am not using the Random Forest Classifier in this updated version of the assignment. I instead chose to use SDG in an attempt to try something new. \n",
    "\n",
    "I will redo the test with the test with the unreduced dataset to see if I get better results "
   ]
  },
  {
   "cell_type": "markdown",
   "id": "8245a958",
   "metadata": {},
   "source": [
    "##### Redo of final test with non Reduced Dataset"
   ]
  },
  {
   "cell_type": "code",
   "execution_count": 35,
   "id": "e8df8e12",
   "metadata": {},
   "outputs": [
    {
     "name": "stdout",
     "output_type": "stream",
     "text": [
      "VotingClassifier training time: 104.13473176956177\n"
     ]
    }
   ],
   "source": [
    "# retraining of soft voter with unreduced dataset\n",
    "soft_voting_clf = train_clf(soft_voting_clf, X_train, y_train)"
   ]
  },
  {
   "cell_type": "markdown",
   "id": "4c4fa937",
   "metadata": {},
   "source": [
    "I will give the rest of the classifiers trained on the unreduced dataset the test set to check performance"
   ]
  },
  {
   "cell_type": "code",
   "execution_count": 36,
   "id": "5239c194",
   "metadata": {},
   "outputs": [],
   "source": [
    "# redo of final test using unreduced dataset\n",
    "sgd_final2 = test_clf(sgd_clf, X_test, y_test)\n",
    "knn_final2 = test_clf(knn_clf, X_test, y_test)\n",
    "extr_final2 = test_clf(extr_clf, X_test, y_test)\n",
    "soft_voting_final2 = test_clf(soft_voting_clf, X_test, y_test)"
   ]
  },
  {
   "cell_type": "markdown",
   "id": "ecdfdfaf",
   "metadata": {},
   "source": [
    "Final results of tests with unreduced dataset:"
   ]
  },
  {
   "cell_type": "code",
   "execution_count": 37,
   "id": "2544a87b",
   "metadata": {},
   "outputs": [
    {
     "name": "stdout",
     "output_type": "stream",
     "text": [
      "SGDClassifier score:  0.8897\n",
      "KNeighborsClassifier score:  0.9683\n",
      "ExtraTreesClassifier score:  0.9705\n",
      "VotingClassifier score:  0.966\n"
     ]
    }
   ],
   "source": [
    "print(sgd_clf.__class__.__name__, \"score: \", sgd_final2)\n",
    "print(knn_clf.__class__.__name__, \"score: \", knn_final2)\n",
    "print(extr_clf.__class__.__name__, \"score: \", extr_final2)\n",
    "print(soft_voting_clf.__class__.__name__, \"score: \", soft_voting_final2)"
   ]
  },
  {
   "cell_type": "markdown",
   "id": "b691d1ed",
   "metadata": {},
   "source": [
    "Wow, I am still unable to get the VotingClassifier to beat the score of KNeighbors. I am really not sure what else I could do here besides use another classifier. Since my orginal assignment worked better and I am doing this to learn, I will keep it as is.\n",
    "\n",
    "I did learn a lot from going back through this assignment. I am glade that I was able to see how PCA preformed on the MNIST dataset."
   ]
  },
  {
   "cell_type": "markdown",
   "id": "6ac54101",
   "metadata": {},
   "source": [
    "# Higher Education Students Performance Evaluation Dataset"
   ]
  },
  {
   "cell_type": "markdown",
   "id": "b4e36dba",
   "metadata": {},
   "source": [
    "I picked this dataset as you recommended that I try to use a new dataset that I have not used before and it seemed like a good dataset to try PCA on since it has many features. This dataset contains 31 dataset features about each student and a label value of the grade that the student made. I will use the same classifiers and ensemble them into a voting classifier as I did with the MNIST dataset in order to see if a better result can be found using the ensemble classifier."
   ]
  },
  {
   "cell_type": "markdown",
   "id": "e48501de",
   "metadata": {},
   "source": [
    "Here I am previewing the student-performance dataset to review it's contents"
   ]
  },
  {
   "cell_type": "code",
   "execution_count": 38,
   "id": "75ff02c9",
   "metadata": {
    "scrolled": true
   },
   "outputs": [
    {
     "data": {
      "text/html": [
       "<div>\n",
       "<style scoped>\n",
       "    .dataframe tbody tr th:only-of-type {\n",
       "        vertical-align: middle;\n",
       "    }\n",
       "\n",
       "    .dataframe tbody tr th {\n",
       "        vertical-align: top;\n",
       "    }\n",
       "\n",
       "    .dataframe thead th {\n",
       "        text-align: right;\n",
       "    }\n",
       "</style>\n",
       "<table border=\"1\" class=\"dataframe\">\n",
       "  <thead>\n",
       "    <tr style=\"text-align: right;\">\n",
       "      <th></th>\n",
       "      <th>student_id</th>\n",
       "      <th>age</th>\n",
       "      <th>sex</th>\n",
       "      <th>graduated_h_school_type</th>\n",
       "      <th>scholarship_type</th>\n",
       "      <th>additional_work</th>\n",
       "      <th>activity</th>\n",
       "      <th>partner</th>\n",
       "      <th>total_salary</th>\n",
       "      <th>transport</th>\n",
       "      <th>...</th>\n",
       "      <th>preparation_midterm_company</th>\n",
       "      <th>preparation_midterm_time</th>\n",
       "      <th>taking_notes</th>\n",
       "      <th>listenning</th>\n",
       "      <th>discussion_improves_interest</th>\n",
       "      <th>flip_classrom</th>\n",
       "      <th>grade_previous</th>\n",
       "      <th>grade_expected</th>\n",
       "      <th>course_id</th>\n",
       "      <th>grade</th>\n",
       "    </tr>\n",
       "  </thead>\n",
       "  <tbody>\n",
       "    <tr>\n",
       "      <th>0</th>\n",
       "      <td>STUDENT1</td>\n",
       "      <td>2</td>\n",
       "      <td>2</td>\n",
       "      <td>3</td>\n",
       "      <td>3</td>\n",
       "      <td>1</td>\n",
       "      <td>2</td>\n",
       "      <td>2</td>\n",
       "      <td>1</td>\n",
       "      <td>1</td>\n",
       "      <td>...</td>\n",
       "      <td>1</td>\n",
       "      <td>1</td>\n",
       "      <td>3</td>\n",
       "      <td>2</td>\n",
       "      <td>1</td>\n",
       "      <td>2</td>\n",
       "      <td>1</td>\n",
       "      <td>1</td>\n",
       "      <td>1</td>\n",
       "      <td>1</td>\n",
       "    </tr>\n",
       "    <tr>\n",
       "      <th>1</th>\n",
       "      <td>STUDENT2</td>\n",
       "      <td>2</td>\n",
       "      <td>2</td>\n",
       "      <td>3</td>\n",
       "      <td>3</td>\n",
       "      <td>1</td>\n",
       "      <td>2</td>\n",
       "      <td>2</td>\n",
       "      <td>1</td>\n",
       "      <td>1</td>\n",
       "      <td>...</td>\n",
       "      <td>1</td>\n",
       "      <td>1</td>\n",
       "      <td>3</td>\n",
       "      <td>2</td>\n",
       "      <td>3</td>\n",
       "      <td>2</td>\n",
       "      <td>2</td>\n",
       "      <td>3</td>\n",
       "      <td>1</td>\n",
       "      <td>1</td>\n",
       "    </tr>\n",
       "    <tr>\n",
       "      <th>2</th>\n",
       "      <td>STUDENT3</td>\n",
       "      <td>2</td>\n",
       "      <td>2</td>\n",
       "      <td>2</td>\n",
       "      <td>3</td>\n",
       "      <td>2</td>\n",
       "      <td>2</td>\n",
       "      <td>2</td>\n",
       "      <td>2</td>\n",
       "      <td>4</td>\n",
       "      <td>...</td>\n",
       "      <td>1</td>\n",
       "      <td>1</td>\n",
       "      <td>2</td>\n",
       "      <td>2</td>\n",
       "      <td>1</td>\n",
       "      <td>1</td>\n",
       "      <td>2</td>\n",
       "      <td>2</td>\n",
       "      <td>1</td>\n",
       "      <td>1</td>\n",
       "    </tr>\n",
       "    <tr>\n",
       "      <th>3</th>\n",
       "      <td>STUDENT4</td>\n",
       "      <td>1</td>\n",
       "      <td>1</td>\n",
       "      <td>1</td>\n",
       "      <td>3</td>\n",
       "      <td>1</td>\n",
       "      <td>2</td>\n",
       "      <td>1</td>\n",
       "      <td>2</td>\n",
       "      <td>1</td>\n",
       "      <td>...</td>\n",
       "      <td>1</td>\n",
       "      <td>2</td>\n",
       "      <td>3</td>\n",
       "      <td>2</td>\n",
       "      <td>2</td>\n",
       "      <td>1</td>\n",
       "      <td>3</td>\n",
       "      <td>2</td>\n",
       "      <td>1</td>\n",
       "      <td>1</td>\n",
       "    </tr>\n",
       "    <tr>\n",
       "      <th>4</th>\n",
       "      <td>STUDENT5</td>\n",
       "      <td>2</td>\n",
       "      <td>2</td>\n",
       "      <td>1</td>\n",
       "      <td>3</td>\n",
       "      <td>2</td>\n",
       "      <td>2</td>\n",
       "      <td>1</td>\n",
       "      <td>3</td>\n",
       "      <td>1</td>\n",
       "      <td>...</td>\n",
       "      <td>2</td>\n",
       "      <td>1</td>\n",
       "      <td>2</td>\n",
       "      <td>2</td>\n",
       "      <td>2</td>\n",
       "      <td>1</td>\n",
       "      <td>2</td>\n",
       "      <td>2</td>\n",
       "      <td>1</td>\n",
       "      <td>1</td>\n",
       "    </tr>\n",
       "    <tr>\n",
       "      <th>...</th>\n",
       "      <td>...</td>\n",
       "      <td>...</td>\n",
       "      <td>...</td>\n",
       "      <td>...</td>\n",
       "      <td>...</td>\n",
       "      <td>...</td>\n",
       "      <td>...</td>\n",
       "      <td>...</td>\n",
       "      <td>...</td>\n",
       "      <td>...</td>\n",
       "      <td>...</td>\n",
       "      <td>...</td>\n",
       "      <td>...</td>\n",
       "      <td>...</td>\n",
       "      <td>...</td>\n",
       "      <td>...</td>\n",
       "      <td>...</td>\n",
       "      <td>...</td>\n",
       "      <td>...</td>\n",
       "      <td>...</td>\n",
       "      <td>...</td>\n",
       "    </tr>\n",
       "    <tr>\n",
       "      <th>140</th>\n",
       "      <td>STUDENT141</td>\n",
       "      <td>2</td>\n",
       "      <td>1</td>\n",
       "      <td>2</td>\n",
       "      <td>3</td>\n",
       "      <td>1</td>\n",
       "      <td>1</td>\n",
       "      <td>2</td>\n",
       "      <td>1</td>\n",
       "      <td>1</td>\n",
       "      <td>...</td>\n",
       "      <td>1</td>\n",
       "      <td>1</td>\n",
       "      <td>2</td>\n",
       "      <td>1</td>\n",
       "      <td>2</td>\n",
       "      <td>1</td>\n",
       "      <td>3</td>\n",
       "      <td>3</td>\n",
       "      <td>9</td>\n",
       "      <td>5</td>\n",
       "    </tr>\n",
       "    <tr>\n",
       "      <th>141</th>\n",
       "      <td>STUDENT142</td>\n",
       "      <td>1</td>\n",
       "      <td>1</td>\n",
       "      <td>2</td>\n",
       "      <td>4</td>\n",
       "      <td>2</td>\n",
       "      <td>2</td>\n",
       "      <td>2</td>\n",
       "      <td>1</td>\n",
       "      <td>4</td>\n",
       "      <td>...</td>\n",
       "      <td>1</td>\n",
       "      <td>1</td>\n",
       "      <td>3</td>\n",
       "      <td>2</td>\n",
       "      <td>2</td>\n",
       "      <td>1</td>\n",
       "      <td>5</td>\n",
       "      <td>3</td>\n",
       "      <td>9</td>\n",
       "      <td>5</td>\n",
       "    </tr>\n",
       "    <tr>\n",
       "      <th>142</th>\n",
       "      <td>STUDENT143</td>\n",
       "      <td>1</td>\n",
       "      <td>1</td>\n",
       "      <td>1</td>\n",
       "      <td>4</td>\n",
       "      <td>2</td>\n",
       "      <td>2</td>\n",
       "      <td>2</td>\n",
       "      <td>1</td>\n",
       "      <td>1</td>\n",
       "      <td>...</td>\n",
       "      <td>1</td>\n",
       "      <td>1</td>\n",
       "      <td>3</td>\n",
       "      <td>3</td>\n",
       "      <td>2</td>\n",
       "      <td>1</td>\n",
       "      <td>4</td>\n",
       "      <td>3</td>\n",
       "      <td>9</td>\n",
       "      <td>1</td>\n",
       "    </tr>\n",
       "    <tr>\n",
       "      <th>143</th>\n",
       "      <td>STUDENT144</td>\n",
       "      <td>2</td>\n",
       "      <td>1</td>\n",
       "      <td>2</td>\n",
       "      <td>4</td>\n",
       "      <td>1</td>\n",
       "      <td>1</td>\n",
       "      <td>1</td>\n",
       "      <td>5</td>\n",
       "      <td>2</td>\n",
       "      <td>...</td>\n",
       "      <td>2</td>\n",
       "      <td>1</td>\n",
       "      <td>2</td>\n",
       "      <td>1</td>\n",
       "      <td>2</td>\n",
       "      <td>1</td>\n",
       "      <td>5</td>\n",
       "      <td>3</td>\n",
       "      <td>9</td>\n",
       "      <td>4</td>\n",
       "    </tr>\n",
       "    <tr>\n",
       "      <th>144</th>\n",
       "      <td>STUDENT145</td>\n",
       "      <td>1</td>\n",
       "      <td>1</td>\n",
       "      <td>1</td>\n",
       "      <td>5</td>\n",
       "      <td>2</td>\n",
       "      <td>2</td>\n",
       "      <td>2</td>\n",
       "      <td>3</td>\n",
       "      <td>1</td>\n",
       "      <td>...</td>\n",
       "      <td>2</td>\n",
       "      <td>1</td>\n",
       "      <td>3</td>\n",
       "      <td>2</td>\n",
       "      <td>3</td>\n",
       "      <td>1</td>\n",
       "      <td>5</td>\n",
       "      <td>4</td>\n",
       "      <td>9</td>\n",
       "      <td>3</td>\n",
       "    </tr>\n",
       "  </tbody>\n",
       "</table>\n",
       "<p>145 rows × 33 columns</p>\n",
       "</div>"
      ],
      "text/plain": [
       "     student_id  age  sex  graduated_h_school_type  scholarship_type  \\\n",
       "0      STUDENT1    2    2                        3                 3   \n",
       "1      STUDENT2    2    2                        3                 3   \n",
       "2      STUDENT3    2    2                        2                 3   \n",
       "3      STUDENT4    1    1                        1                 3   \n",
       "4      STUDENT5    2    2                        1                 3   \n",
       "..          ...  ...  ...                      ...               ...   \n",
       "140  STUDENT141    2    1                        2                 3   \n",
       "141  STUDENT142    1    1                        2                 4   \n",
       "142  STUDENT143    1    1                        1                 4   \n",
       "143  STUDENT144    2    1                        2                 4   \n",
       "144  STUDENT145    1    1                        1                 5   \n",
       "\n",
       "     additional_work  activity  partner  total_salary  transport  ...  \\\n",
       "0                  1         2        2             1          1  ...   \n",
       "1                  1         2        2             1          1  ...   \n",
       "2                  2         2        2             2          4  ...   \n",
       "3                  1         2        1             2          1  ...   \n",
       "4                  2         2        1             3          1  ...   \n",
       "..               ...       ...      ...           ...        ...  ...   \n",
       "140                1         1        2             1          1  ...   \n",
       "141                2         2        2             1          4  ...   \n",
       "142                2         2        2             1          1  ...   \n",
       "143                1         1        1             5          2  ...   \n",
       "144                2         2        2             3          1  ...   \n",
       "\n",
       "     preparation_midterm_company  preparation_midterm_time  taking_notes  \\\n",
       "0                              1                         1             3   \n",
       "1                              1                         1             3   \n",
       "2                              1                         1             2   \n",
       "3                              1                         2             3   \n",
       "4                              2                         1             2   \n",
       "..                           ...                       ...           ...   \n",
       "140                            1                         1             2   \n",
       "141                            1                         1             3   \n",
       "142                            1                         1             3   \n",
       "143                            2                         1             2   \n",
       "144                            2                         1             3   \n",
       "\n",
       "     listenning  discussion_improves_interest  flip_classrom  grade_previous  \\\n",
       "0             2                             1              2               1   \n",
       "1             2                             3              2               2   \n",
       "2             2                             1              1               2   \n",
       "3             2                             2              1               3   \n",
       "4             2                             2              1               2   \n",
       "..          ...                           ...            ...             ...   \n",
       "140           1                             2              1               3   \n",
       "141           2                             2              1               5   \n",
       "142           3                             2              1               4   \n",
       "143           1                             2              1               5   \n",
       "144           2                             3              1               5   \n",
       "\n",
       "     grade_expected  course_id  grade  \n",
       "0                 1          1      1  \n",
       "1                 3          1      1  \n",
       "2                 2          1      1  \n",
       "3                 2          1      1  \n",
       "4                 2          1      1  \n",
       "..              ...        ...    ...  \n",
       "140               3          9      5  \n",
       "141               3          9      5  \n",
       "142               3          9      1  \n",
       "143               3          9      4  \n",
       "144               4          9      3  \n",
       "\n",
       "[145 rows x 33 columns]"
      ]
     },
     "execution_count": 38,
     "metadata": {},
     "output_type": "execute_result"
    }
   ],
   "source": [
    "studentData"
   ]
  },
  {
   "cell_type": "markdown",
   "id": "540ebba1",
   "metadata": {},
   "source": [
    "This dataset had already transformed it's categorical values into quantitative values and had been scaled prior to me downloading the dataset. The site I recieved the dataset from states the following about how to interpret the quantitative values of the dataset: \n",
    "\n",
    "1- age - Student Age (1: 18-21, 2: 22-25, 3: above 26)\n",
    "2- sex - Sex (1: female, 2: male)\n",
    "3- graduated_h_school_type - Graduated high-school type: (1: private, 2: state, 3: other)\n",
    "4- scholarship_type - Scholarship type: (1: None, 2: 25%, 3: 50%, 4: 75%, 5: Full)\n",
    "5- additional_work - Additional work: (1: Yes, 2: No)\n",
    "6- activity -Regular artistic or sports activity: (1: Yes, 2: No)\n",
    "7- partner - Do you have a partner: (1: Yes, 2: No)\n",
    "8- total_salary - Total salary if available (1: USD 135-200, 2: USD 201-270, 3: USD 271-340, 4: USD 341-410, 5: above 410)\n",
    "9- transport - Transportation to the university: (1: Bus, 2: Private car/taxi, 3: bicycle, 4: Other)\n",
    "10- accomodation - Accommodation type in Cyprus: (1: rental, 2: dormitory, 3: with family, 4: Other)\n",
    "11- mother_ed - Mother's education: (1: primary school, 2: secondary school, 3: high school, 4: university, 5: MSc., 6: Ph.D.)\n",
    "12- farther_ed - Father's education: (1: primary school, 2: secondary school, 3: high school, 4: university, 5: MSc., 6: Ph.D.)\n",
    "13- siblings - Number of sisters/brothers (if available): (1: 1, 2:, 2, 3: 3, 4: 4, 5: 5 or above)\n",
    "14- parental_status - Parental status: (1: married, 2: divorced, 3: died - one of them or both)\n",
    "15- mother_occup - Mother's occupation: (1: retired, 2: housewife, 3: government officer, 4: private sector employee, 5: self-employment, 6: other)\n",
    "16- father_occup - Father's occupation: (1: retired, 2: government officer, 3: private sector employee, 4: self-employment, 5: other)\n",
    "17- weekly_study_hours - Weekly study hours: (1: None, 2: <5 hours, 3: 6-10 hours, 4: 11-20 hours, 5: more than 20 hours)\n",
    "18- reading_non_scientific - Reading frequency (non-scientific books/journals): (1: None, 2: Sometimes, 3: Often)\n",
    "19- reading_scientific - Reading frequency (scientific books/journals): (1: None, 2: Sometimes, 3: Often)\n",
    "20- attendance_seminars_dep -Attendance to the seminars/conferences related to the department: (1: Yes, 2: No)\n",
    "21- impact_of_projects - Impact of your projects/activities on your success: (1: positive, 2: negative, 3: neutral)\n",
    "22- attendances_classes - Attendance to classes (1: always, 2: sometimes, 3: never)\n",
    "23- preparation_midterm_company - Preparation to midterm exams 1: (1: alone, 2: with friends, 3: not applicable)\n",
    "24- preparation_midterm_time - Preparation to midterm exams 2: (1: closest date to the exam, 2: regularly during the semester, 3: never)\n",
    "25- taking_notes - Taking notes in classes: (1: never, 2: sometimes, 3: always)\n",
    "26- listenning - Listening in classes: (1: never, 2: sometimes, 3: always)\n",
    "27- discussion_improves_interest - Discussion improves my interest and success in the course: (1: never, 2: sometimes, 3: always)\n",
    "28- flip_classrom - Flip-classroom: (1: not useful, 2: useful, 3: not applicable)\n",
    "29- grade_previous - Cumulative grade point average in the last semester (/4.00): (1: <2.00, 2: 2.00-2.49, 3: 2.50-2.99, 4: 3.00-3.49, 5: above 3.49)\n",
    "30- grade_expected - Expected Cumulative grade point average in the graduation (/4.00): (1: <2.00, 2: 2.00-2.49, 3: 2.50-2.99, 4: 3.00-3.49, 5: above 3.49)\n",
    "31- course_id\n",
    "32- grade - OUTPUT Grade (0: Fail, 1: DD, 2: DC, 3: CC, 4: CB, 5: BB, 6: BA, 7: AA\n",
    "\n",
    "If you would like to review this information yourself, you can find this information at: https://www.kaggle.com/datasets/mariazhokhova/higher-education-students-performance-evaluation\n"
   ]
  },
  {
   "cell_type": "markdown",
   "id": "1cb24c83",
   "metadata": {},
   "source": [
    "## Dataset Preprocessing"
   ]
  },
  {
   "cell_type": "markdown",
   "id": "cd1589ef",
   "metadata": {},
   "source": [
    "Here I am reviewing all of the column names of the dataset"
   ]
  },
  {
   "cell_type": "code",
   "execution_count": 39,
   "id": "e82c894e",
   "metadata": {
    "scrolled": true
   },
   "outputs": [
    {
     "data": {
      "text/plain": [
       "Index(['student_id', 'age', 'sex', 'graduated_h_school_type',\n",
       "       'scholarship_type', 'additional_work', 'activity', 'partner',\n",
       "       'total_salary', 'transport', 'accomodation', 'mother_ed', 'farther_ed',\n",
       "       'siblings', 'parental_status', 'mother_occup', 'father_occup',\n",
       "       'weekly_study_hours', 'reading_non_scientific', 'reading_scientific',\n",
       "       'attendance_seminars_dep', 'impact_of_projects', 'attendances_classes',\n",
       "       'preparation_midterm_company', 'preparation_midterm_time',\n",
       "       'taking_notes', 'listenning', 'discussion_improves_interest',\n",
       "       'flip_classrom', 'grade_previous', 'grade_expected', 'course_id',\n",
       "       'grade'],\n",
       "      dtype='object')"
      ]
     },
     "execution_count": 39,
     "metadata": {},
     "output_type": "execute_result"
    }
   ],
   "source": [
    "# review column names of dataset\n",
    "studentData.columns"
   ]
  },
  {
   "cell_type": "markdown",
   "id": "d04a3a05",
   "metadata": {},
   "source": [
    "Because will not be needing the student's ID number for training or testing I will remove this field from the dataset"
   ]
  },
  {
   "cell_type": "code",
   "execution_count": 40,
   "id": "b6ea38c1",
   "metadata": {},
   "outputs": [],
   "source": [
    "# removes student_id feature from dataset\n",
    "studentData = studentData.drop(columns=['student_id'])"
   ]
  },
  {
   "cell_type": "markdown",
   "id": "1aa698ff",
   "metadata": {},
   "source": [
    "Here I am reviewing the dataset again to make sure that student_id has been dropped from it."
   ]
  },
  {
   "cell_type": "code",
   "execution_count": 41,
   "id": "822ef445",
   "metadata": {},
   "outputs": [
    {
     "data": {
      "text/html": [
       "<div>\n",
       "<style scoped>\n",
       "    .dataframe tbody tr th:only-of-type {\n",
       "        vertical-align: middle;\n",
       "    }\n",
       "\n",
       "    .dataframe tbody tr th {\n",
       "        vertical-align: top;\n",
       "    }\n",
       "\n",
       "    .dataframe thead th {\n",
       "        text-align: right;\n",
       "    }\n",
       "</style>\n",
       "<table border=\"1\" class=\"dataframe\">\n",
       "  <thead>\n",
       "    <tr style=\"text-align: right;\">\n",
       "      <th></th>\n",
       "      <th>age</th>\n",
       "      <th>sex</th>\n",
       "      <th>graduated_h_school_type</th>\n",
       "      <th>scholarship_type</th>\n",
       "      <th>additional_work</th>\n",
       "      <th>activity</th>\n",
       "      <th>partner</th>\n",
       "      <th>total_salary</th>\n",
       "      <th>transport</th>\n",
       "      <th>accomodation</th>\n",
       "      <th>...</th>\n",
       "      <th>preparation_midterm_company</th>\n",
       "      <th>preparation_midterm_time</th>\n",
       "      <th>taking_notes</th>\n",
       "      <th>listenning</th>\n",
       "      <th>discussion_improves_interest</th>\n",
       "      <th>flip_classrom</th>\n",
       "      <th>grade_previous</th>\n",
       "      <th>grade_expected</th>\n",
       "      <th>course_id</th>\n",
       "      <th>grade</th>\n",
       "    </tr>\n",
       "  </thead>\n",
       "  <tbody>\n",
       "    <tr>\n",
       "      <th>0</th>\n",
       "      <td>2</td>\n",
       "      <td>2</td>\n",
       "      <td>3</td>\n",
       "      <td>3</td>\n",
       "      <td>1</td>\n",
       "      <td>2</td>\n",
       "      <td>2</td>\n",
       "      <td>1</td>\n",
       "      <td>1</td>\n",
       "      <td>1</td>\n",
       "      <td>...</td>\n",
       "      <td>1</td>\n",
       "      <td>1</td>\n",
       "      <td>3</td>\n",
       "      <td>2</td>\n",
       "      <td>1</td>\n",
       "      <td>2</td>\n",
       "      <td>1</td>\n",
       "      <td>1</td>\n",
       "      <td>1</td>\n",
       "      <td>1</td>\n",
       "    </tr>\n",
       "    <tr>\n",
       "      <th>1</th>\n",
       "      <td>2</td>\n",
       "      <td>2</td>\n",
       "      <td>3</td>\n",
       "      <td>3</td>\n",
       "      <td>1</td>\n",
       "      <td>2</td>\n",
       "      <td>2</td>\n",
       "      <td>1</td>\n",
       "      <td>1</td>\n",
       "      <td>1</td>\n",
       "      <td>...</td>\n",
       "      <td>1</td>\n",
       "      <td>1</td>\n",
       "      <td>3</td>\n",
       "      <td>2</td>\n",
       "      <td>3</td>\n",
       "      <td>2</td>\n",
       "      <td>2</td>\n",
       "      <td>3</td>\n",
       "      <td>1</td>\n",
       "      <td>1</td>\n",
       "    </tr>\n",
       "    <tr>\n",
       "      <th>2</th>\n",
       "      <td>2</td>\n",
       "      <td>2</td>\n",
       "      <td>2</td>\n",
       "      <td>3</td>\n",
       "      <td>2</td>\n",
       "      <td>2</td>\n",
       "      <td>2</td>\n",
       "      <td>2</td>\n",
       "      <td>4</td>\n",
       "      <td>2</td>\n",
       "      <td>...</td>\n",
       "      <td>1</td>\n",
       "      <td>1</td>\n",
       "      <td>2</td>\n",
       "      <td>2</td>\n",
       "      <td>1</td>\n",
       "      <td>1</td>\n",
       "      <td>2</td>\n",
       "      <td>2</td>\n",
       "      <td>1</td>\n",
       "      <td>1</td>\n",
       "    </tr>\n",
       "    <tr>\n",
       "      <th>3</th>\n",
       "      <td>1</td>\n",
       "      <td>1</td>\n",
       "      <td>1</td>\n",
       "      <td>3</td>\n",
       "      <td>1</td>\n",
       "      <td>2</td>\n",
       "      <td>1</td>\n",
       "      <td>2</td>\n",
       "      <td>1</td>\n",
       "      <td>2</td>\n",
       "      <td>...</td>\n",
       "      <td>1</td>\n",
       "      <td>2</td>\n",
       "      <td>3</td>\n",
       "      <td>2</td>\n",
       "      <td>2</td>\n",
       "      <td>1</td>\n",
       "      <td>3</td>\n",
       "      <td>2</td>\n",
       "      <td>1</td>\n",
       "      <td>1</td>\n",
       "    </tr>\n",
       "    <tr>\n",
       "      <th>4</th>\n",
       "      <td>2</td>\n",
       "      <td>2</td>\n",
       "      <td>1</td>\n",
       "      <td>3</td>\n",
       "      <td>2</td>\n",
       "      <td>2</td>\n",
       "      <td>1</td>\n",
       "      <td>3</td>\n",
       "      <td>1</td>\n",
       "      <td>4</td>\n",
       "      <td>...</td>\n",
       "      <td>2</td>\n",
       "      <td>1</td>\n",
       "      <td>2</td>\n",
       "      <td>2</td>\n",
       "      <td>2</td>\n",
       "      <td>1</td>\n",
       "      <td>2</td>\n",
       "      <td>2</td>\n",
       "      <td>1</td>\n",
       "      <td>1</td>\n",
       "    </tr>\n",
       "    <tr>\n",
       "      <th>...</th>\n",
       "      <td>...</td>\n",
       "      <td>...</td>\n",
       "      <td>...</td>\n",
       "      <td>...</td>\n",
       "      <td>...</td>\n",
       "      <td>...</td>\n",
       "      <td>...</td>\n",
       "      <td>...</td>\n",
       "      <td>...</td>\n",
       "      <td>...</td>\n",
       "      <td>...</td>\n",
       "      <td>...</td>\n",
       "      <td>...</td>\n",
       "      <td>...</td>\n",
       "      <td>...</td>\n",
       "      <td>...</td>\n",
       "      <td>...</td>\n",
       "      <td>...</td>\n",
       "      <td>...</td>\n",
       "      <td>...</td>\n",
       "      <td>...</td>\n",
       "    </tr>\n",
       "    <tr>\n",
       "      <th>140</th>\n",
       "      <td>2</td>\n",
       "      <td>1</td>\n",
       "      <td>2</td>\n",
       "      <td>3</td>\n",
       "      <td>1</td>\n",
       "      <td>1</td>\n",
       "      <td>2</td>\n",
       "      <td>1</td>\n",
       "      <td>1</td>\n",
       "      <td>2</td>\n",
       "      <td>...</td>\n",
       "      <td>1</td>\n",
       "      <td>1</td>\n",
       "      <td>2</td>\n",
       "      <td>1</td>\n",
       "      <td>2</td>\n",
       "      <td>1</td>\n",
       "      <td>3</td>\n",
       "      <td>3</td>\n",
       "      <td>9</td>\n",
       "      <td>5</td>\n",
       "    </tr>\n",
       "    <tr>\n",
       "      <th>141</th>\n",
       "      <td>1</td>\n",
       "      <td>1</td>\n",
       "      <td>2</td>\n",
       "      <td>4</td>\n",
       "      <td>2</td>\n",
       "      <td>2</td>\n",
       "      <td>2</td>\n",
       "      <td>1</td>\n",
       "      <td>4</td>\n",
       "      <td>2</td>\n",
       "      <td>...</td>\n",
       "      <td>1</td>\n",
       "      <td>1</td>\n",
       "      <td>3</td>\n",
       "      <td>2</td>\n",
       "      <td>2</td>\n",
       "      <td>1</td>\n",
       "      <td>5</td>\n",
       "      <td>3</td>\n",
       "      <td>9</td>\n",
       "      <td>5</td>\n",
       "    </tr>\n",
       "    <tr>\n",
       "      <th>142</th>\n",
       "      <td>1</td>\n",
       "      <td>1</td>\n",
       "      <td>1</td>\n",
       "      <td>4</td>\n",
       "      <td>2</td>\n",
       "      <td>2</td>\n",
       "      <td>2</td>\n",
       "      <td>1</td>\n",
       "      <td>1</td>\n",
       "      <td>1</td>\n",
       "      <td>...</td>\n",
       "      <td>1</td>\n",
       "      <td>1</td>\n",
       "      <td>3</td>\n",
       "      <td>3</td>\n",
       "      <td>2</td>\n",
       "      <td>1</td>\n",
       "      <td>4</td>\n",
       "      <td>3</td>\n",
       "      <td>9</td>\n",
       "      <td>1</td>\n",
       "    </tr>\n",
       "    <tr>\n",
       "      <th>143</th>\n",
       "      <td>2</td>\n",
       "      <td>1</td>\n",
       "      <td>2</td>\n",
       "      <td>4</td>\n",
       "      <td>1</td>\n",
       "      <td>1</td>\n",
       "      <td>1</td>\n",
       "      <td>5</td>\n",
       "      <td>2</td>\n",
       "      <td>3</td>\n",
       "      <td>...</td>\n",
       "      <td>2</td>\n",
       "      <td>1</td>\n",
       "      <td>2</td>\n",
       "      <td>1</td>\n",
       "      <td>2</td>\n",
       "      <td>1</td>\n",
       "      <td>5</td>\n",
       "      <td>3</td>\n",
       "      <td>9</td>\n",
       "      <td>4</td>\n",
       "    </tr>\n",
       "    <tr>\n",
       "      <th>144</th>\n",
       "      <td>1</td>\n",
       "      <td>1</td>\n",
       "      <td>1</td>\n",
       "      <td>5</td>\n",
       "      <td>2</td>\n",
       "      <td>2</td>\n",
       "      <td>2</td>\n",
       "      <td>3</td>\n",
       "      <td>1</td>\n",
       "      <td>1</td>\n",
       "      <td>...</td>\n",
       "      <td>2</td>\n",
       "      <td>1</td>\n",
       "      <td>3</td>\n",
       "      <td>2</td>\n",
       "      <td>3</td>\n",
       "      <td>1</td>\n",
       "      <td>5</td>\n",
       "      <td>4</td>\n",
       "      <td>9</td>\n",
       "      <td>3</td>\n",
       "    </tr>\n",
       "  </tbody>\n",
       "</table>\n",
       "<p>145 rows × 32 columns</p>\n",
       "</div>"
      ],
      "text/plain": [
       "     age  sex  graduated_h_school_type  scholarship_type  additional_work  \\\n",
       "0      2    2                        3                 3                1   \n",
       "1      2    2                        3                 3                1   \n",
       "2      2    2                        2                 3                2   \n",
       "3      1    1                        1                 3                1   \n",
       "4      2    2                        1                 3                2   \n",
       "..   ...  ...                      ...               ...              ...   \n",
       "140    2    1                        2                 3                1   \n",
       "141    1    1                        2                 4                2   \n",
       "142    1    1                        1                 4                2   \n",
       "143    2    1                        2                 4                1   \n",
       "144    1    1                        1                 5                2   \n",
       "\n",
       "     activity  partner  total_salary  transport  accomodation  ...  \\\n",
       "0           2        2             1          1             1  ...   \n",
       "1           2        2             1          1             1  ...   \n",
       "2           2        2             2          4             2  ...   \n",
       "3           2        1             2          1             2  ...   \n",
       "4           2        1             3          1             4  ...   \n",
       "..        ...      ...           ...        ...           ...  ...   \n",
       "140         1        2             1          1             2  ...   \n",
       "141         2        2             1          4             2  ...   \n",
       "142         2        2             1          1             1  ...   \n",
       "143         1        1             5          2             3  ...   \n",
       "144         2        2             3          1             1  ...   \n",
       "\n",
       "     preparation_midterm_company  preparation_midterm_time  taking_notes  \\\n",
       "0                              1                         1             3   \n",
       "1                              1                         1             3   \n",
       "2                              1                         1             2   \n",
       "3                              1                         2             3   \n",
       "4                              2                         1             2   \n",
       "..                           ...                       ...           ...   \n",
       "140                            1                         1             2   \n",
       "141                            1                         1             3   \n",
       "142                            1                         1             3   \n",
       "143                            2                         1             2   \n",
       "144                            2                         1             3   \n",
       "\n",
       "     listenning  discussion_improves_interest  flip_classrom  grade_previous  \\\n",
       "0             2                             1              2               1   \n",
       "1             2                             3              2               2   \n",
       "2             2                             1              1               2   \n",
       "3             2                             2              1               3   \n",
       "4             2                             2              1               2   \n",
       "..          ...                           ...            ...             ...   \n",
       "140           1                             2              1               3   \n",
       "141           2                             2              1               5   \n",
       "142           3                             2              1               4   \n",
       "143           1                             2              1               5   \n",
       "144           2                             3              1               5   \n",
       "\n",
       "     grade_expected  course_id  grade  \n",
       "0                 1          1      1  \n",
       "1                 3          1      1  \n",
       "2                 2          1      1  \n",
       "3                 2          1      1  \n",
       "4                 2          1      1  \n",
       "..              ...        ...    ...  \n",
       "140               3          9      5  \n",
       "141               3          9      5  \n",
       "142               3          9      1  \n",
       "143               3          9      4  \n",
       "144               4          9      3  \n",
       "\n",
       "[145 rows x 32 columns]"
      ]
     },
     "execution_count": 41,
     "metadata": {},
     "output_type": "execute_result"
    }
   ],
   "source": [
    "studentData"
   ]
  },
  {
   "cell_type": "markdown",
   "id": "6fd640d9",
   "metadata": {},
   "source": [
    "Here I am checking to see if any null values exist in the dataset"
   ]
  },
  {
   "cell_type": "code",
   "execution_count": 42,
   "id": "a4d3e1b7",
   "metadata": {},
   "outputs": [
    {
     "data": {
      "text/plain": [
       "age                             0\n",
       "sex                             0\n",
       "graduated_h_school_type         0\n",
       "scholarship_type                0\n",
       "additional_work                 0\n",
       "activity                        0\n",
       "partner                         0\n",
       "total_salary                    0\n",
       "transport                       0\n",
       "accomodation                    0\n",
       "mother_ed                       0\n",
       "farther_ed                      0\n",
       "siblings                        0\n",
       "parental_status                 0\n",
       "mother_occup                    0\n",
       "father_occup                    0\n",
       "weekly_study_hours              0\n",
       "reading_non_scientific          0\n",
       "reading_scientific              0\n",
       "attendance_seminars_dep         0\n",
       "impact_of_projects              0\n",
       "attendances_classes             0\n",
       "preparation_midterm_company     0\n",
       "preparation_midterm_time        0\n",
       "taking_notes                    0\n",
       "listenning                      0\n",
       "discussion_improves_interest    0\n",
       "flip_classrom                   0\n",
       "grade_previous                  0\n",
       "grade_expected                  0\n",
       "course_id                       0\n",
       "grade                           0\n",
       "dtype: int64"
      ]
     },
     "execution_count": 42,
     "metadata": {},
     "output_type": "execute_result"
    }
   ],
   "source": [
    "studentData.isna().sum()"
   ]
  },
  {
   "cell_type": "markdown",
   "id": "c0dd59f1",
   "metadata": {},
   "source": [
    "Because no null values exist in the dataset, I will move on.\n",
    "\n",
    "Next, I will check for outliers"
   ]
  },
  {
   "cell_type": "code",
   "execution_count": 43,
   "id": "503ca254",
   "metadata": {},
   "outputs": [
    {
     "data": {
      "image/png": "[encoded data removed]",
      "text/plain": [
       "<Figure size 640x480 with 1 Axes>"
      ]
     },
     "metadata": {},
     "output_type": "display_data"
    }
   ],
   "source": [
    "# creating box plots to show outliers in dataset\n",
    "studentData.plot.box(vert=False, title=\"Box Plot of Student Performance Dataset\")\n",
    "plt.show()"
   ]
  },
  {
   "cell_type": "markdown",
   "id": "f0c11ca3",
   "metadata": {},
   "source": [
    "Because very few outliers exist in the dataset, I will not be removing any outliers from the data. \n",
    "In addition, because this dataset has already been scaled, I will not be using any scaling techniques either. "
   ]
  },
  {
   "cell_type": "markdown",
   "id": "2518aea7",
   "metadata": {},
   "source": [
    "Here I am going to seperate the label value from the dataset and assign it to the variable 'y'.\n",
    "I will assign the rest of the dataset to variable 'X'. "
   ]
  },
  {
   "cell_type": "code",
   "execution_count": 44,
   "id": "a5d2ac97",
   "metadata": {},
   "outputs": [],
   "source": [
    "# label values assigned to variable y\n",
    "y= studentData['grade']\n",
    "\n",
    "# all features besides dataset label assigned to variable X\n",
    "X=studentData.drop(columns=['grade'])"
   ]
  },
  {
   "cell_type": "markdown",
   "id": "b3d10388",
   "metadata": {},
   "source": [
    "Now, I am going to send my dataset without labels 'X' and label values 'y' to the function split_dataset. Both the test size and validate size values are going to be set at 21 instances. Here is the math: \n",
    "\n",
    "total instances = 144\n",
    "30% of total instances = 43.2\n",
    "15% for testing set and 15% for validation set = 21.6\n",
    "\n",
    "I will round down and use only 21 dataset instances per the validation set and 21 instances for the testing set. "
   ]
  },
  {
   "cell_type": "code",
   "execution_count": 45,
   "id": "461a6b73",
   "metadata": {},
   "outputs": [],
   "source": [
    "# splits dataset into training, validation, and test sets\n",
    "X_train, X_test, X_validate, y_train, y_test, y_validate = split_dataset(X, y, test_size=21, validate_size=21)"
   ]
  },
  {
   "cell_type": "markdown",
   "id": "26bed163",
   "metadata": {},
   "source": [
    "In addition, I am creating a PCA reduced dataset to use on all of the classifiers as well."
   ]
  },
  {
   "cell_type": "code",
   "execution_count": 46,
   "id": "b9fcb1e6",
   "metadata": {},
   "outputs": [],
   "source": [
    "pca = PCA(n_components=0.95)\n",
    "X_reduced = pca.fit_transform(X)"
   ]
  },
  {
   "cell_type": "code",
   "execution_count": 47,
   "id": "4b3ef9a4",
   "metadata": {},
   "outputs": [],
   "source": [
    "X_train_rdc, X_test_rdc, X_validate_rdc, y_train_rdc, y_test_rdc, y_validate_rdc = split_dataset(X_reduced, y, test_size=21, validate_size=21)"
   ]
  },
  {
   "cell_type": "markdown",
   "id": "e9099411",
   "metadata": {},
   "source": [
    "After splitting the data into training, validation, and testing sets, I will check to make sure they are the correct sizes"
   ]
  },
  {
   "cell_type": "code",
   "execution_count": 48,
   "id": "305dc607",
   "metadata": {},
   "outputs": [
    {
     "data": {
      "text/plain": [
       "(103, 31)"
      ]
     },
     "execution_count": 48,
     "metadata": {},
     "output_type": "execute_result"
    }
   ],
   "source": [
    "# size of training set \n",
    "X_train.shape"
   ]
  },
  {
   "cell_type": "code",
   "execution_count": 49,
   "id": "fd2b43df",
   "metadata": {},
   "outputs": [
    {
     "data": {
      "text/plain": [
       "(21, 31)"
      ]
     },
     "execution_count": 49,
     "metadata": {},
     "output_type": "execute_result"
    }
   ],
   "source": [
    "# size of validation set\n",
    "X_validate.shape"
   ]
  },
  {
   "cell_type": "code",
   "execution_count": 50,
   "id": "0258862b",
   "metadata": {},
   "outputs": [
    {
     "data": {
      "text/plain": [
       "(21, 31)"
      ]
     },
     "execution_count": 50,
     "metadata": {},
     "output_type": "execute_result"
    }
   ],
   "source": [
    "# size of test set\n",
    "X_test.shape"
   ]
  },
  {
   "cell_type": "markdown",
   "id": "3d420032",
   "metadata": {},
   "source": [
    "## Training and Testing of individual classifiers"
   ]
  },
  {
   "cell_type": "markdown",
   "id": "ef6a8c20",
   "metadata": {},
   "source": [
    "As stated before, I will be using the same classifiers here that I used with the MNIST dataset so that I can compare the ensemble classifier performances on different datasets."
   ]
  },
  {
   "cell_type": "markdown",
   "id": "c629462e",
   "metadata": {},
   "source": [
    "### Stochastic Gradient Descent (SGD) Classifier"
   ]
  },
  {
   "cell_type": "markdown",
   "id": "634efd12",
   "metadata": {},
   "source": [
    "##### Non Reduced Dataset"
   ]
  },
  {
   "cell_type": "markdown",
   "id": "aff2c787",
   "metadata": {},
   "source": [
    "Here I am declaring a new SGD Classifier and training it with the non reduced data."
   ]
  },
  {
   "cell_type": "code",
   "execution_count": 51,
   "id": "f10e3721",
   "metadata": {},
   "outputs": [
    {
     "name": "stdout",
     "output_type": "stream",
     "text": [
      "SGDClassifier training time: 0.005003690719604492\n"
     ]
    }
   ],
   "source": [
    "# creation and training of SDG Classifier\n",
    "sgd_clf2 = SGDClassifier(random_state=27, loss='modified_huber')\n",
    "sgd_clf2 = train_clf(sgd_clf2, X_train, y_train)"
   ]
  },
  {
   "cell_type": "markdown",
   "id": "46e96dba",
   "metadata": {},
   "source": [
    "Now testing with the validation set"
   ]
  },
  {
   "cell_type": "code",
   "execution_count": 52,
   "id": "b652e48f",
   "metadata": {},
   "outputs": [
    {
     "name": "stdout",
     "output_type": "stream",
     "text": [
      "SGDClassifier score:  0.09523809523809523\n"
     ]
    }
   ],
   "source": [
    "# testing of SDG Classifier\n",
    "sgd_results2 = test_clf(sgd_clf2, X_validate, y_validate)\n",
    "print(sgd_clf2.__class__.__name__, \"score: \", sgd_results2)"
   ]
  },
  {
   "cell_type": "markdown",
   "id": "868d4836",
   "metadata": {},
   "source": [
    "Not great results. I am going to try again with the reduced dataset "
   ]
  },
  {
   "cell_type": "markdown",
   "id": "e8a390c0",
   "metadata": {},
   "source": [
    "##### Reduced Dataset"
   ]
  },
  {
   "cell_type": "code",
   "execution_count": 53,
   "id": "fcc8756f",
   "metadata": {},
   "outputs": [
    {
     "name": "stdout",
     "output_type": "stream",
     "text": [
      "SGDClassifier training time: 0.0040035247802734375\n"
     ]
    }
   ],
   "source": [
    "# creation and training of SDG Classifier\n",
    "sgd_clf2_rdc = SGDClassifier(random_state=27, loss='modified_huber')\n",
    "sgd_clf2_rdc = train_clf(sgd_clf2, X_train_rdc, y_train_rdc)"
   ]
  },
  {
   "cell_type": "code",
   "execution_count": 54,
   "id": "461d1215",
   "metadata": {},
   "outputs": [
    {
     "name": "stdout",
     "output_type": "stream",
     "text": [
      "SGDClassifier score:  0.19047619047619047\n"
     ]
    }
   ],
   "source": [
    "# testing of SDG Classifier\n",
    "sgd_rdc_results2 =test_clf(sgd_clf2_rdc, X_validate_rdc, y_validate_rdc)\n",
    "print(sgd_clf2_rdc.__class__.__name__, \"score: \", sgd_rdc_results2)"
   ]
  },
  {
   "cell_type": "markdown",
   "id": "9b4299bc",
   "metadata": {},
   "source": [
    "Very interesting. While I still have very poor performance, the reduced data set twice as accurate as the non reduced set"
   ]
  },
  {
   "cell_type": "markdown",
   "id": "42f316c6",
   "metadata": {},
   "source": [
    "### KNeighbors Classifier"
   ]
  },
  {
   "cell_type": "markdown",
   "id": "59c1e9d9",
   "metadata": {},
   "source": [
    "Here I am creating a new KNeighbors Classifier to train and test with the non reduced set "
   ]
  },
  {
   "cell_type": "markdown",
   "id": "d35616df",
   "metadata": {},
   "source": [
    "##### Non Reduced Dataset"
   ]
  },
  {
   "cell_type": "code",
   "execution_count": 55,
   "id": "c2052633",
   "metadata": {},
   "outputs": [
    {
     "name": "stdout",
     "output_type": "stream",
     "text": [
      "KNeighborsClassifier training time: 0.002001523971557617\n"
     ]
    }
   ],
   "source": [
    "# creation and training of KNeighbors Classifier \n",
    "knn_clf2 = KNeighborsClassifier()\n",
    "knn_clf2 = train_clf(knn_clf2, X_train, y_train)"
   ]
  },
  {
   "cell_type": "code",
   "execution_count": 56,
   "id": "c9c1a0c1",
   "metadata": {},
   "outputs": [
    {
     "name": "stdout",
     "output_type": "stream",
     "text": [
      "KNeighborsClassifier score:  0.19047619047619047\n"
     ]
    }
   ],
   "source": [
    "# testing of KNeighbors Classifier \n",
    "knn_result2 = test_clf(knn_clf2, X_validate, y_validate)\n",
    "print(knn_clf2.__class__.__name__, \"score: \", knn_result2)"
   ]
  },
  {
   "cell_type": "markdown",
   "id": "a729cd97",
   "metadata": {},
   "source": [
    "Still very poor results. I will try again with the non reduced dataset"
   ]
  },
  {
   "cell_type": "markdown",
   "id": "88a3434d",
   "metadata": {},
   "source": [
    "##### Reduced Dataset"
   ]
  },
  {
   "cell_type": "code",
   "execution_count": 57,
   "id": "5719acf3",
   "metadata": {},
   "outputs": [
    {
     "name": "stdout",
     "output_type": "stream",
     "text": [
      "KNeighborsClassifier training time: 0.0005614757537841797\n"
     ]
    }
   ],
   "source": [
    "# creation and training of KNeighbors Classifier with reduced dataset \n",
    "knn_clf2_rdc = KNeighborsClassifier()\n",
    "knn_clf2_rdc = train_clf(knn_clf2_rdc, X_train_rdc, y_train_rdc)"
   ]
  },
  {
   "cell_type": "code",
   "execution_count": 58,
   "id": "a0dae87f",
   "metadata": {},
   "outputs": [
    {
     "name": "stdout",
     "output_type": "stream",
     "text": [
      "KNeighborsClassifier score:  0.14285714285714285\n"
     ]
    }
   ],
   "source": [
    "# testing of KNeighbors Classifier with reduced dataset \n",
    "knn_rdc_result2 = test_clf(knn_clf2_rdc, X_validate_rdc, y_validate_rdc)\n",
    "print(knn_clf2_rdc.__class__.__name__, \"score: \", knn_rdc_result2)"
   ]
  },
  {
   "cell_type": "markdown",
   "id": "2484c826",
   "metadata": {},
   "source": [
    "I lost 5% accuracy here from using this dataset. Let's see how Extra Trees does next."
   ]
  },
  {
   "cell_type": "markdown",
   "id": "ed547922",
   "metadata": {},
   "source": [
    "### Extra Trees Classifier"
   ]
  },
  {
   "cell_type": "markdown",
   "id": "ac2a25b0",
   "metadata": {},
   "source": [
    "Here I will train and test a new Extra Trees Classifier with the non reduced dataset"
   ]
  },
  {
   "cell_type": "markdown",
   "id": "83048819",
   "metadata": {},
   "source": [
    "##### Non Reduced Dataset"
   ]
  },
  {
   "cell_type": "code",
   "execution_count": 59,
   "id": "33628c74",
   "metadata": {},
   "outputs": [
    {
     "name": "stdout",
     "output_type": "stream",
     "text": [
      "ExtraTreesClassifier training time: 0.07606840133666992\n"
     ]
    }
   ],
   "source": [
    "# creation and training of Extra Trees Classifier \n",
    "extr_clf2 = ExtraTreesClassifier(random_state=42)\n",
    "extr_clf2 = train_clf(extr_clf2, X_train, y_train)"
   ]
  },
  {
   "cell_type": "code",
   "execution_count": 60,
   "id": "a55f0980",
   "metadata": {},
   "outputs": [
    {
     "name": "stdout",
     "output_type": "stream",
     "text": [
      "ExtraTreesClassifier score:  0.23809523809523808\n"
     ]
    }
   ],
   "source": [
    "# testing of Extra Tree classifier\n",
    "extr_result2 = test_clf(extr_clf2, X_validate, y_validate)\n",
    "print(extr_clf.__class__.__name__, \"score: \", extr_result2)"
   ]
  },
  {
   "cell_type": "markdown",
   "id": "1f731a41",
   "metadata": {},
   "source": [
    "Not great performance here. Let's see how well Extra trees does with the reduced dataset "
   ]
  },
  {
   "cell_type": "markdown",
   "id": "9fc5e43a",
   "metadata": {},
   "source": [
    "##### Reduced Dataset"
   ]
  },
  {
   "cell_type": "code",
   "execution_count": 61,
   "id": "0511dd6b",
   "metadata": {},
   "outputs": [
    {
     "name": "stdout",
     "output_type": "stream",
     "text": [
      "ExtraTreesClassifier training time: 0.07006359100341797\n"
     ]
    }
   ],
   "source": [
    "# creation and training of Extra Trees Classifier with reduced dataset \n",
    "extr_clf2_rdc = ExtraTreesClassifier(random_state=42)\n",
    "extr_clf2_rdc = train_clf(extr_clf2_rdc, X_train_rdc, y_train_rdc)"
   ]
  },
  {
   "cell_type": "code",
   "execution_count": 62,
   "id": "79f4f919",
   "metadata": {},
   "outputs": [
    {
     "name": "stdout",
     "output_type": "stream",
     "text": [
      "ExtraTreesClassifier score:  0.23809523809523808\n"
     ]
    }
   ],
   "source": [
    "# testing of Extra Tree classifier with reduced dataset\n",
    "extr_rdc_result2 = test_clf(extr_clf2_rdc, X_validate_rdc, y_validate_rdc)\n",
    "print(extr_clf_rdc.__class__.__name__, \"score: \", extr_rdc_result2)"
   ]
  },
  {
   "cell_type": "markdown",
   "id": "59ca03de",
   "metadata": {},
   "source": [
    "Looks like I did not get a performance drop using the reduced dataset. \n",
    "\n",
    "Since I am getting a slightly better net performance benefit from using the PCA reduced dataset, I will use the reduced dataset for my voting classifier."
   ]
  },
  {
   "cell_type": "markdown",
   "id": "d786499a",
   "metadata": {},
   "source": [
    "### Voting Classifier (hard)"
   ]
  },
  {
   "cell_type": "markdown",
   "id": "fe9f8531",
   "metadata": {},
   "source": [
    "Here I am creating a new Voting Classifier with its voting setting set to hard. Like I mentioned before, I will be using the reduced dataset for both training and testing here."
   ]
  },
  {
   "cell_type": "code",
   "execution_count": 63,
   "id": "4dd42b56",
   "metadata": {},
   "outputs": [
    {
     "name": "stdout",
     "output_type": "stream",
     "text": [
      "VotingClassifier training time: 0.10009050369262695\n"
     ]
    }
   ],
   "source": [
    "# creation of new classifiers used for Voting Classifier\n",
    "sgd_clf_hard2 = SGDClassifier(random_state=27, loss='modified_huber')\n",
    "knnV_clf_hard2 = KNeighborsClassifier()\n",
    "extrV_clf_hard2 = ExtraTreesClassifier(random_state=42)\n",
    "\n",
    "# creation and training of Voting Classifier using SDG, KNeighbors, and Extra Trees\n",
    "# voting setting set to hard\n",
    "hard_voting_clf2 = VotingClassifier(\n",
    "    estimators=[('sgd', sgd_clf_hard2),('kn', knnV_clf_hard2), ('et', extrV_clf_hard2)],\n",
    "    voting='hard')\n",
    "\n",
    "# training of the hard Voting Classifier\n",
    "hard_voting_clf2 = train_clf(hard_voting_clf, X_train_rdc, y_train_rdc)"
   ]
  },
  {
   "cell_type": "code",
   "execution_count": 64,
   "id": "1238bd56",
   "metadata": {},
   "outputs": [
    {
     "name": "stdout",
     "output_type": "stream",
     "text": [
      "VotingClassifier score:  0.23809523809523808\n"
     ]
    }
   ],
   "source": [
    "# testing of Hard Voting Classifier and printing result\n",
    "hard_voting_result2 = test_clf(hard_voting_clf2, X_validate_rdc, y_validate_rdc)\n",
    "print(hard_voting_clf.__class__.__name__, \"score: \", hard_voting_result2)"
   ]
  },
  {
   "cell_type": "markdown",
   "id": "f061e787",
   "metadata": {},
   "source": [
    "This score ties with the Extra Trees on the validation set. Next I am going to try with soft voting."
   ]
  },
  {
   "cell_type": "markdown",
   "id": "83eb31e5",
   "metadata": {},
   "source": [
    "### Voting Classifier (soft)"
   ]
  },
  {
   "cell_type": "code",
   "execution_count": 65,
   "id": "5367726a",
   "metadata": {},
   "outputs": [
    {
     "name": "stdout",
     "output_type": "stream",
     "text": [
      "VotingClassifier training time: 0.07506895065307617\n"
     ]
    }
   ],
   "source": [
    "# creation of new classifiers used for Voting Classifier\n",
    "sgd_clf_soft2 = SGDClassifier(random_state=27, loss='modified_huber')\n",
    "knnV_clf_soft2 = KNeighborsClassifier()\n",
    "extr_clf_soft2 = ExtraTreesClassifier(random_state=42)\n",
    "\n",
    "\n",
    "#  creation of voting classifier with soft voting setting\n",
    "soft_voting_clf2 = VotingClassifier(\n",
    "    estimators=[('sgd', sgd_clf_soft2),('kn', knnV_clf_soft2), ('et', extr_clf_soft2)],\n",
    "    voting='soft')\n",
    "\n",
    "# training soft voting classifier with reduced dataset\n",
    "soft_voting_clf2 = train_clf(soft_voting_clf2, X_train_rdc, y_train_rdc)"
   ]
  },
  {
   "cell_type": "code",
   "execution_count": 66,
   "id": "b2286033",
   "metadata": {},
   "outputs": [
    {
     "name": "stdout",
     "output_type": "stream",
     "text": [
      "VotingClassifier score:  0.19047619047619047\n"
     ]
    }
   ],
   "source": [
    "# testing of Hard Voting Classifier and printing result\n",
    "soft_voting_result2 = test_clf(soft_voting_clf2, X_validate_rdc, y_validate_rdc)\n",
    "print(hard_voting_clf.__class__.__name__, \"score: \", soft_voting_result2)"
   ]
  },
  {
   "cell_type": "markdown",
   "id": "874faf08",
   "metadata": {},
   "source": [
    "It appears that hard voting is outperforming the soft Voting Classifier here. I will move on to use the hard Voting Classifier for my final test."
   ]
  },
  {
   "cell_type": "markdown",
   "id": "5e5f01df",
   "metadata": {},
   "source": [
    "## Final tests of all classifiers on the Student Performance Dataset "
   ]
  },
  {
   "cell_type": "code",
   "execution_count": 67,
   "id": "ddb477c7",
   "metadata": {},
   "outputs": [],
   "source": [
    "# final test using reduced dataset\n",
    "sgd_final3 = test_clf(sgd_clf2_rdc, X_test_rdc, y_test_rdc)\n",
    "knn_final3 = test_clf(knn_clf2_rdc, X_test_rdc, y_test_rdc)\n",
    "extr_final3 = test_clf(extr_clf2_rdc, X_test_rdc, y_test_rdc)\n",
    "hard_voting_final3 = test_clf(hard_voting_clf2, X_test_rdc, y_test_rdc)"
   ]
  },
  {
   "cell_type": "code",
   "execution_count": 68,
   "id": "77a4d057",
   "metadata": {},
   "outputs": [
    {
     "name": "stdout",
     "output_type": "stream",
     "text": [
      "SGDClassifier score:  0.14285714285714285\n",
      "KNeighborsClassifier score:  0.19047619047619047\n",
      "ExtraTreesClassifier score:  0.23809523809523808\n",
      "VotingClassifier score:  0.14285714285714285\n"
     ]
    }
   ],
   "source": [
    "print(sgd_clf.__class__.__name__, \"score: \", sgd_final3)\n",
    "print(knn_clf.__class__.__name__, \"score: \", knn_final3)\n",
    "print(extr_clf.__class__.__name__, \"score: \", extr_final3)\n",
    "print(soft_voting_clf.__class__.__name__, \"score: \", hard_voting_final3)"
   ]
  },
  {
   "cell_type": "markdown",
   "id": "82c0a773",
   "metadata": {},
   "source": [
    "Well, this was unexpected. I lost a lot of performance of my voting classifier in my final test and Extra Trees beat me here. \n",
    "\n",
    "I am curious to see how much the dataset features correlate to each other "
   ]
  },
  {
   "cell_type": "code",
   "execution_count": 69,
   "id": "893f7aeb",
   "metadata": {},
   "outputs": [
    {
     "data": {
      "text/html": [
       "<div>\n",
       "<style scoped>\n",
       "    .dataframe tbody tr th:only-of-type {\n",
       "        vertical-align: middle;\n",
       "    }\n",
       "\n",
       "    .dataframe tbody tr th {\n",
       "        vertical-align: top;\n",
       "    }\n",
       "\n",
       "    .dataframe thead th {\n",
       "        text-align: right;\n",
       "    }\n",
       "</style>\n",
       "<table border=\"1\" class=\"dataframe\">\n",
       "  <thead>\n",
       "    <tr style=\"text-align: right;\">\n",
       "      <th></th>\n",
       "      <th>age</th>\n",
       "      <th>sex</th>\n",
       "      <th>graduated_h_school_type</th>\n",
       "      <th>scholarship_type</th>\n",
       "      <th>additional_work</th>\n",
       "      <th>activity</th>\n",
       "      <th>partner</th>\n",
       "      <th>total_salary</th>\n",
       "      <th>transport</th>\n",
       "      <th>accomodation</th>\n",
       "      <th>...</th>\n",
       "      <th>preparation_midterm_company</th>\n",
       "      <th>preparation_midterm_time</th>\n",
       "      <th>taking_notes</th>\n",
       "      <th>listenning</th>\n",
       "      <th>discussion_improves_interest</th>\n",
       "      <th>flip_classrom</th>\n",
       "      <th>grade_previous</th>\n",
       "      <th>grade_expected</th>\n",
       "      <th>course_id</th>\n",
       "      <th>grade</th>\n",
       "    </tr>\n",
       "  </thead>\n",
       "  <tbody>\n",
       "    <tr>\n",
       "      <th>age</th>\n",
       "      <td>1.000000</td>\n",
       "      <td>0.138233</td>\n",
       "      <td>0.294426</td>\n",
       "      <td>-0.316506</td>\n",
       "      <td>-0.181019</td>\n",
       "      <td>0.138233</td>\n",
       "      <td>0.042572</td>\n",
       "      <td>0.127853</td>\n",
       "      <td>0.001472</td>\n",
       "      <td>-0.199257</td>\n",
       "      <td>...</td>\n",
       "      <td>-0.044462</td>\n",
       "      <td>0.030595</td>\n",
       "      <td>-0.181121</td>\n",
       "      <td>0.235576</td>\n",
       "      <td>-0.100812</td>\n",
       "      <td>0.228884</td>\n",
       "      <td>0.172597</td>\n",
       "      <td>0.121441</td>\n",
       "      <td>-0.304994</td>\n",
       "      <td>-0.095251</td>\n",
       "    </tr>\n",
       "    <tr>\n",
       "      <th>sex</th>\n",
       "      <td>0.138233</td>\n",
       "      <td>1.000000</td>\n",
       "      <td>0.126218</td>\n",
       "      <td>-0.206876</td>\n",
       "      <td>0.190476</td>\n",
       "      <td>0.224138</td>\n",
       "      <td>-0.125471</td>\n",
       "      <td>-0.022154</td>\n",
       "      <td>-0.013313</td>\n",
       "      <td>-0.154957</td>\n",
       "      <td>...</td>\n",
       "      <td>-0.032164</td>\n",
       "      <td>-0.013833</td>\n",
       "      <td>0.065013</td>\n",
       "      <td>-0.184238</td>\n",
       "      <td>0.065449</td>\n",
       "      <td>0.223095</td>\n",
       "      <td>0.241033</td>\n",
       "      <td>0.292842</td>\n",
       "      <td>-0.430704</td>\n",
       "      <td>0.335533</td>\n",
       "    </tr>\n",
       "    <tr>\n",
       "      <th>graduated_h_school_type</th>\n",
       "      <td>0.294426</td>\n",
       "      <td>0.126218</td>\n",
       "      <td>1.000000</td>\n",
       "      <td>-0.086965</td>\n",
       "      <td>-0.155331</td>\n",
       "      <td>0.073627</td>\n",
       "      <td>0.016557</td>\n",
       "      <td>-0.126440</td>\n",
       "      <td>0.023944</td>\n",
       "      <td>-0.018990</td>\n",
       "      <td>...</td>\n",
       "      <td>-0.027258</td>\n",
       "      <td>-0.053034</td>\n",
       "      <td>0.053969</td>\n",
       "      <td>0.123405</td>\n",
       "      <td>-0.082461</td>\n",
       "      <td>0.055107</td>\n",
       "      <td>0.019802</td>\n",
       "      <td>0.053497</td>\n",
       "      <td>-0.118761</td>\n",
       "      <td>0.104821</td>\n",
       "    </tr>\n",
       "    <tr>\n",
       "      <th>scholarship_type</th>\n",
       "      <td>-0.316506</td>\n",
       "      <td>-0.206876</td>\n",
       "      <td>-0.086965</td>\n",
       "      <td>1.000000</td>\n",
       "      <td>0.055351</td>\n",
       "      <td>-0.154281</td>\n",
       "      <td>0.120346</td>\n",
       "      <td>-0.119024</td>\n",
       "      <td>0.028288</td>\n",
       "      <td>0.036543</td>\n",
       "      <td>...</td>\n",
       "      <td>0.027357</td>\n",
       "      <td>0.005529</td>\n",
       "      <td>0.164447</td>\n",
       "      <td>0.018147</td>\n",
       "      <td>0.147922</td>\n",
       "      <td>-0.095411</td>\n",
       "      <td>0.236460</td>\n",
       "      <td>0.243517</td>\n",
       "      <td>0.317563</td>\n",
       "      <td>0.023963</td>\n",
       "    </tr>\n",
       "    <tr>\n",
       "      <th>additional_work</th>\n",
       "      <td>-0.181019</td>\n",
       "      <td>0.190476</td>\n",
       "      <td>-0.155331</td>\n",
       "      <td>0.055351</td>\n",
       "      <td>1.000000</td>\n",
       "      <td>0.220238</td>\n",
       "      <td>0.100010</td>\n",
       "      <td>-0.118284</td>\n",
       "      <td>0.102223</td>\n",
       "      <td>-0.152641</td>\n",
       "      <td>...</td>\n",
       "      <td>-0.153273</td>\n",
       "      <td>-0.246770</td>\n",
       "      <td>-0.033757</td>\n",
       "      <td>-0.158217</td>\n",
       "      <td>0.078973</td>\n",
       "      <td>0.027762</td>\n",
       "      <td>0.034666</td>\n",
       "      <td>0.007706</td>\n",
       "      <td>-0.114794</td>\n",
       "      <td>0.167445</td>\n",
       "    </tr>\n",
       "    <tr>\n",
       "      <th>activity</th>\n",
       "      <td>0.138233</td>\n",
       "      <td>0.224138</td>\n",
       "      <td>0.073627</td>\n",
       "      <td>-0.154281</td>\n",
       "      <td>0.220238</td>\n",
       "      <td>1.000000</td>\n",
       "      <td>-0.011406</td>\n",
       "      <td>0.060922</td>\n",
       "      <td>0.026626</td>\n",
       "      <td>-0.227030</td>\n",
       "      <td>...</td>\n",
       "      <td>-0.124062</td>\n",
       "      <td>-0.117580</td>\n",
       "      <td>-0.035007</td>\n",
       "      <td>0.004187</td>\n",
       "      <td>-0.028050</td>\n",
       "      <td>0.135949</td>\n",
       "      <td>0.002171</td>\n",
       "      <td>-0.092476</td>\n",
       "      <td>-0.326711</td>\n",
       "      <td>-0.062993</td>\n",
       "    </tr>\n",
       "    <tr>\n",
       "      <th>partner</th>\n",
       "      <td>0.042572</td>\n",
       "      <td>-0.125471</td>\n",
       "      <td>0.016557</td>\n",
       "      <td>0.120346</td>\n",
       "      <td>0.100010</td>\n",
       "      <td>-0.011406</td>\n",
       "      <td>1.000000</td>\n",
       "      <td>-0.078556</td>\n",
       "      <td>0.037811</td>\n",
       "      <td>-0.168201</td>\n",
       "      <td>...</td>\n",
       "      <td>-0.191197</td>\n",
       "      <td>-0.031005</td>\n",
       "      <td>0.005818</td>\n",
       "      <td>-0.054734</td>\n",
       "      <td>-0.000480</td>\n",
       "      <td>-0.082664</td>\n",
       "      <td>-0.058479</td>\n",
       "      <td>-0.012658</td>\n",
       "      <td>0.068769</td>\n",
       "      <td>-0.051778</td>\n",
       "    </tr>\n",
       "    <tr>\n",
       "      <th>total_salary</th>\n",
       "      <td>0.127853</td>\n",
       "      <td>-0.022154</td>\n",
       "      <td>-0.126440</td>\n",
       "      <td>-0.119024</td>\n",
       "      <td>-0.118284</td>\n",
       "      <td>0.060922</td>\n",
       "      <td>-0.078556</td>\n",
       "      <td>1.000000</td>\n",
       "      <td>-0.015926</td>\n",
       "      <td>0.030177</td>\n",
       "      <td>...</td>\n",
       "      <td>0.213079</td>\n",
       "      <td>0.048955</td>\n",
       "      <td>-0.235900</td>\n",
       "      <td>-0.050648</td>\n",
       "      <td>-0.031225</td>\n",
       "      <td>-0.037184</td>\n",
       "      <td>-0.100950</td>\n",
       "      <td>-0.058644</td>\n",
       "      <td>-0.123024</td>\n",
       "      <td>-0.166352</td>\n",
       "    </tr>\n",
       "    <tr>\n",
       "      <th>transport</th>\n",
       "      <td>0.001472</td>\n",
       "      <td>-0.013313</td>\n",
       "      <td>0.023944</td>\n",
       "      <td>0.028288</td>\n",
       "      <td>0.102223</td>\n",
       "      <td>0.026626</td>\n",
       "      <td>0.037811</td>\n",
       "      <td>-0.015926</td>\n",
       "      <td>1.000000</td>\n",
       "      <td>0.327283</td>\n",
       "      <td>...</td>\n",
       "      <td>-0.015048</td>\n",
       "      <td>-0.094471</td>\n",
       "      <td>0.022769</td>\n",
       "      <td>-0.019064</td>\n",
       "      <td>-0.134057</td>\n",
       "      <td>-0.158432</td>\n",
       "      <td>-0.036078</td>\n",
       "      <td>0.005909</td>\n",
       "      <td>0.114839</td>\n",
       "      <td>-0.156289</td>\n",
       "    </tr>\n",
       "    <tr>\n",
       "      <th>accomodation</th>\n",
       "      <td>-0.199257</td>\n",
       "      <td>-0.154957</td>\n",
       "      <td>-0.018990</td>\n",
       "      <td>0.036543</td>\n",
       "      <td>-0.152641</td>\n",
       "      <td>-0.227030</td>\n",
       "      <td>-0.168201</td>\n",
       "      <td>0.030177</td>\n",
       "      <td>0.327283</td>\n",
       "      <td>1.000000</td>\n",
       "      <td>...</td>\n",
       "      <td>0.132236</td>\n",
       "      <td>0.009870</td>\n",
       "      <td>0.066609</td>\n",
       "      <td>0.146396</td>\n",
       "      <td>-0.024462</td>\n",
       "      <td>-0.136949</td>\n",
       "      <td>-0.082775</td>\n",
       "      <td>-0.007332</td>\n",
       "      <td>0.271997</td>\n",
       "      <td>0.023683</td>\n",
       "    </tr>\n",
       "    <tr>\n",
       "      <th>mother_ed</th>\n",
       "      <td>-0.068972</td>\n",
       "      <td>0.062370</td>\n",
       "      <td>-0.166336</td>\n",
       "      <td>-0.109006</td>\n",
       "      <td>0.153780</td>\n",
       "      <td>-0.122430</td>\n",
       "      <td>-0.043001</td>\n",
       "      <td>0.123932</td>\n",
       "      <td>0.168831</td>\n",
       "      <td>0.159529</td>\n",
       "      <td>...</td>\n",
       "      <td>0.195258</td>\n",
       "      <td>-0.010928</td>\n",
       "      <td>-0.023497</td>\n",
       "      <td>-0.027450</td>\n",
       "      <td>0.017689</td>\n",
       "      <td>-0.035607</td>\n",
       "      <td>-0.065851</td>\n",
       "      <td>-0.072417</td>\n",
       "      <td>0.107332</td>\n",
       "      <td>0.066318</td>\n",
       "    </tr>\n",
       "    <tr>\n",
       "      <th>farther_ed</th>\n",
       "      <td>-0.070108</td>\n",
       "      <td>0.120638</td>\n",
       "      <td>-0.134322</td>\n",
       "      <td>-0.222776</td>\n",
       "      <td>0.205138</td>\n",
       "      <td>-0.113252</td>\n",
       "      <td>0.045241</td>\n",
       "      <td>0.031212</td>\n",
       "      <td>0.090659</td>\n",
       "      <td>0.206439</td>\n",
       "      <td>...</td>\n",
       "      <td>0.077854</td>\n",
       "      <td>-0.047816</td>\n",
       "      <td>0.073653</td>\n",
       "      <td>-0.081400</td>\n",
       "      <td>-0.051725</td>\n",
       "      <td>0.072915</td>\n",
       "      <td>-0.081027</td>\n",
       "      <td>-0.188972</td>\n",
       "      <td>-0.068783</td>\n",
       "      <td>0.063504</td>\n",
       "    </tr>\n",
       "    <tr>\n",
       "      <th>siblings</th>\n",
       "      <td>0.069748</td>\n",
       "      <td>0.060216</td>\n",
       "      <td>0.051827</td>\n",
       "      <td>-0.037831</td>\n",
       "      <td>-0.134003</td>\n",
       "      <td>0.143273</td>\n",
       "      <td>0.033182</td>\n",
       "      <td>0.007866</td>\n",
       "      <td>-0.253099</td>\n",
       "      <td>-0.276875</td>\n",
       "      <td>...</td>\n",
       "      <td>-0.120674</td>\n",
       "      <td>0.120378</td>\n",
       "      <td>-0.006729</td>\n",
       "      <td>0.102455</td>\n",
       "      <td>0.160517</td>\n",
       "      <td>0.173759</td>\n",
       "      <td>0.135240</td>\n",
       "      <td>0.085065</td>\n",
       "      <td>-0.178987</td>\n",
       "      <td>0.084470</td>\n",
       "    </tr>\n",
       "    <tr>\n",
       "      <th>parental_status</th>\n",
       "      <td>0.172668</td>\n",
       "      <td>-0.028781</td>\n",
       "      <td>0.009990</td>\n",
       "      <td>-0.005450</td>\n",
       "      <td>-0.165492</td>\n",
       "      <td>-0.057563</td>\n",
       "      <td>-0.128034</td>\n",
       "      <td>0.101380</td>\n",
       "      <td>-0.033565</td>\n",
       "      <td>-0.059119</td>\n",
       "      <td>...</td>\n",
       "      <td>0.127751</td>\n",
       "      <td>0.341596</td>\n",
       "      <td>-0.215903</td>\n",
       "      <td>-0.049893</td>\n",
       "      <td>-0.066199</td>\n",
       "      <td>-0.003010</td>\n",
       "      <td>0.085872</td>\n",
       "      <td>0.183650</td>\n",
       "      <td>0.076921</td>\n",
       "      <td>0.066379</td>\n",
       "    </tr>\n",
       "    <tr>\n",
       "      <th>mother_occup</th>\n",
       "      <td>-0.200812</td>\n",
       "      <td>-0.056143</td>\n",
       "      <td>-0.050269</td>\n",
       "      <td>0.023919</td>\n",
       "      <td>-0.044113</td>\n",
       "      <td>-0.161412</td>\n",
       "      <td>-0.211091</td>\n",
       "      <td>0.028451</td>\n",
       "      <td>0.274118</td>\n",
       "      <td>0.384892</td>\n",
       "      <td>...</td>\n",
       "      <td>0.188353</td>\n",
       "      <td>0.008300</td>\n",
       "      <td>0.025480</td>\n",
       "      <td>-0.113370</td>\n",
       "      <td>0.007972</td>\n",
       "      <td>-0.127259</td>\n",
       "      <td>-0.016276</td>\n",
       "      <td>-0.006165</td>\n",
       "      <td>0.138063</td>\n",
       "      <td>-0.030747</td>\n",
       "    </tr>\n",
       "    <tr>\n",
       "      <th>father_occup</th>\n",
       "      <td>-0.141571</td>\n",
       "      <td>-0.033997</td>\n",
       "      <td>-0.131680</td>\n",
       "      <td>-0.012785</td>\n",
       "      <td>0.005919</td>\n",
       "      <td>0.019123</td>\n",
       "      <td>-0.176901</td>\n",
       "      <td>-0.109689</td>\n",
       "      <td>-0.116259</td>\n",
       "      <td>0.016447</td>\n",
       "      <td>...</td>\n",
       "      <td>-0.047039</td>\n",
       "      <td>-0.055816</td>\n",
       "      <td>-0.025375</td>\n",
       "      <td>-0.026744</td>\n",
       "      <td>-0.025866</td>\n",
       "      <td>-0.054173</td>\n",
       "      <td>-0.030203</td>\n",
       "      <td>0.064253</td>\n",
       "      <td>0.036315</td>\n",
       "      <td>-0.044268</td>\n",
       "    </tr>\n",
       "    <tr>\n",
       "      <th>weekly_study_hours</th>\n",
       "      <td>-0.172833</td>\n",
       "      <td>-0.067750</td>\n",
       "      <td>-0.174719</td>\n",
       "      <td>0.003758</td>\n",
       "      <td>-0.114824</td>\n",
       "      <td>-0.129342</td>\n",
       "      <td>0.048897</td>\n",
       "      <td>-0.097935</td>\n",
       "      <td>0.007134</td>\n",
       "      <td>-0.021241</td>\n",
       "      <td>...</td>\n",
       "      <td>-0.145267</td>\n",
       "      <td>0.281668</td>\n",
       "      <td>0.163465</td>\n",
       "      <td>-0.107697</td>\n",
       "      <td>0.020040</td>\n",
       "      <td>0.014943</td>\n",
       "      <td>0.008145</td>\n",
       "      <td>0.066071</td>\n",
       "      <td>0.172280</td>\n",
       "      <td>-0.033065</td>\n",
       "    </tr>\n",
       "    <tr>\n",
       "      <th>reading_non_scientific</th>\n",
       "      <td>0.059712</td>\n",
       "      <td>0.045206</td>\n",
       "      <td>-0.010144</td>\n",
       "      <td>0.008877</td>\n",
       "      <td>-0.096332</td>\n",
       "      <td>-0.281283</td>\n",
       "      <td>0.090581</td>\n",
       "      <td>-0.072357</td>\n",
       "      <td>-0.046942</td>\n",
       "      <td>-0.081128</td>\n",
       "      <td>...</td>\n",
       "      <td>-0.046113</td>\n",
       "      <td>0.040021</td>\n",
       "      <td>0.029691</td>\n",
       "      <td>-0.101711</td>\n",
       "      <td>0.064246</td>\n",
       "      <td>0.189729</td>\n",
       "      <td>-0.075979</td>\n",
       "      <td>0.064566</td>\n",
       "      <td>0.079710</td>\n",
       "      <td>0.195617</td>\n",
       "    </tr>\n",
       "    <tr>\n",
       "      <th>reading_scientific</th>\n",
       "      <td>0.078849</td>\n",
       "      <td>-0.005233</td>\n",
       "      <td>0.050529</td>\n",
       "      <td>0.061543</td>\n",
       "      <td>-0.171384</td>\n",
       "      <td>-0.214557</td>\n",
       "      <td>-0.004119</td>\n",
       "      <td>0.009390</td>\n",
       "      <td>-0.124146</td>\n",
       "      <td>-0.155241</td>\n",
       "      <td>...</td>\n",
       "      <td>0.069540</td>\n",
       "      <td>0.084044</td>\n",
       "      <td>0.111801</td>\n",
       "      <td>0.016960</td>\n",
       "      <td>-0.038018</td>\n",
       "      <td>0.037870</td>\n",
       "      <td>-0.071658</td>\n",
       "      <td>0.190187</td>\n",
       "      <td>0.125221</td>\n",
       "      <td>0.003189</td>\n",
       "    </tr>\n",
       "    <tr>\n",
       "      <th>attendance_seminars_dep</th>\n",
       "      <td>-0.226882</td>\n",
       "      <td>-0.363971</td>\n",
       "      <td>-0.009101</td>\n",
       "      <td>0.214838</td>\n",
       "      <td>-0.018640</td>\n",
       "      <td>-0.020602</td>\n",
       "      <td>0.103634</td>\n",
       "      <td>-0.106800</td>\n",
       "      <td>0.059791</td>\n",
       "      <td>0.179520</td>\n",
       "      <td>...</td>\n",
       "      <td>0.069295</td>\n",
       "      <td>0.118555</td>\n",
       "      <td>0.212451</td>\n",
       "      <td>0.007246</td>\n",
       "      <td>0.022730</td>\n",
       "      <td>-0.146074</td>\n",
       "      <td>-0.192637</td>\n",
       "      <td>-0.045090</td>\n",
       "      <td>0.434601</td>\n",
       "      <td>-0.184763</td>\n",
       "    </tr>\n",
       "    <tr>\n",
       "      <th>impact_of_projects</th>\n",
       "      <td>0.007306</td>\n",
       "      <td>-0.144138</td>\n",
       "      <td>0.124317</td>\n",
       "      <td>0.041443</td>\n",
       "      <td>-0.120973</td>\n",
       "      <td>-0.024023</td>\n",
       "      <td>0.038636</td>\n",
       "      <td>0.059872</td>\n",
       "      <td>0.070998</td>\n",
       "      <td>0.001039</td>\n",
       "      <td>...</td>\n",
       "      <td>0.170210</td>\n",
       "      <td>-0.027914</td>\n",
       "      <td>0.055504</td>\n",
       "      <td>-0.011467</td>\n",
       "      <td>-0.113204</td>\n",
       "      <td>-0.046727</td>\n",
       "      <td>-0.097340</td>\n",
       "      <td>-0.099526</td>\n",
       "      <td>0.105300</td>\n",
       "      <td>-0.203273</td>\n",
       "    </tr>\n",
       "    <tr>\n",
       "      <th>attendances_classes</th>\n",
       "      <td>0.060027</td>\n",
       "      <td>-0.065795</td>\n",
       "      <td>-0.032180</td>\n",
       "      <td>-0.141190</td>\n",
       "      <td>0.028198</td>\n",
       "      <td>0.098693</td>\n",
       "      <td>0.154225</td>\n",
       "      <td>0.111506</td>\n",
       "      <td>-0.056759</td>\n",
       "      <td>-0.135860</td>\n",
       "      <td>...</td>\n",
       "      <td>-0.126975</td>\n",
       "      <td>-0.189765</td>\n",
       "      <td>-0.145107</td>\n",
       "      <td>-0.094221</td>\n",
       "      <td>-0.073821</td>\n",
       "      <td>0.074998</td>\n",
       "      <td>-0.178305</td>\n",
       "      <td>-0.182535</td>\n",
       "      <td>-0.196372</td>\n",
       "      <td>-0.139564</td>\n",
       "    </tr>\n",
       "    <tr>\n",
       "      <th>preparation_midterm_company</th>\n",
       "      <td>-0.044462</td>\n",
       "      <td>-0.032164</td>\n",
       "      <td>-0.027258</td>\n",
       "      <td>0.027357</td>\n",
       "      <td>-0.153273</td>\n",
       "      <td>-0.124062</td>\n",
       "      <td>-0.191197</td>\n",
       "      <td>0.213079</td>\n",
       "      <td>-0.015048</td>\n",
       "      <td>0.132236</td>\n",
       "      <td>...</td>\n",
       "      <td>1.000000</td>\n",
       "      <td>0.273440</td>\n",
       "      <td>-0.053909</td>\n",
       "      <td>0.038441</td>\n",
       "      <td>-0.004898</td>\n",
       "      <td>-0.105041</td>\n",
       "      <td>-0.087524</td>\n",
       "      <td>-0.067562</td>\n",
       "      <td>0.150972</td>\n",
       "      <td>0.014638</td>\n",
       "    </tr>\n",
       "    <tr>\n",
       "      <th>preparation_midterm_time</th>\n",
       "      <td>0.030595</td>\n",
       "      <td>-0.013833</td>\n",
       "      <td>-0.053034</td>\n",
       "      <td>0.005529</td>\n",
       "      <td>-0.246770</td>\n",
       "      <td>-0.117580</td>\n",
       "      <td>-0.031005</td>\n",
       "      <td>0.048955</td>\n",
       "      <td>-0.094471</td>\n",
       "      <td>0.009870</td>\n",
       "      <td>...</td>\n",
       "      <td>0.273440</td>\n",
       "      <td>1.000000</td>\n",
       "      <td>0.057903</td>\n",
       "      <td>-0.108951</td>\n",
       "      <td>0.184693</td>\n",
       "      <td>0.076236</td>\n",
       "      <td>0.183201</td>\n",
       "      <td>0.197000</td>\n",
       "      <td>0.077465</td>\n",
       "      <td>0.073783</td>\n",
       "    </tr>\n",
       "    <tr>\n",
       "      <th>taking_notes</th>\n",
       "      <td>-0.181121</td>\n",
       "      <td>0.065013</td>\n",
       "      <td>0.053969</td>\n",
       "      <td>0.164447</td>\n",
       "      <td>-0.033757</td>\n",
       "      <td>-0.035007</td>\n",
       "      <td>0.005818</td>\n",
       "      <td>-0.235900</td>\n",
       "      <td>0.022769</td>\n",
       "      <td>0.066609</td>\n",
       "      <td>...</td>\n",
       "      <td>-0.053909</td>\n",
       "      <td>0.057903</td>\n",
       "      <td>1.000000</td>\n",
       "      <td>-0.024751</td>\n",
       "      <td>0.283639</td>\n",
       "      <td>0.155536</td>\n",
       "      <td>0.143541</td>\n",
       "      <td>0.184990</td>\n",
       "      <td>0.179658</td>\n",
       "      <td>0.044862</td>\n",
       "    </tr>\n",
       "    <tr>\n",
       "      <th>listenning</th>\n",
       "      <td>0.235576</td>\n",
       "      <td>-0.184238</td>\n",
       "      <td>0.123405</td>\n",
       "      <td>0.018147</td>\n",
       "      <td>-0.158217</td>\n",
       "      <td>0.004187</td>\n",
       "      <td>-0.054734</td>\n",
       "      <td>-0.050648</td>\n",
       "      <td>-0.019064</td>\n",
       "      <td>0.146396</td>\n",
       "      <td>...</td>\n",
       "      <td>0.038441</td>\n",
       "      <td>-0.108951</td>\n",
       "      <td>-0.024751</td>\n",
       "      <td>1.000000</td>\n",
       "      <td>-0.036527</td>\n",
       "      <td>0.019617</td>\n",
       "      <td>0.055427</td>\n",
       "      <td>-0.020135</td>\n",
       "      <td>0.135596</td>\n",
       "      <td>0.085137</td>\n",
       "    </tr>\n",
       "    <tr>\n",
       "      <th>discussion_improves_interest</th>\n",
       "      <td>-0.100812</td>\n",
       "      <td>0.065449</td>\n",
       "      <td>-0.082461</td>\n",
       "      <td>0.147922</td>\n",
       "      <td>0.078973</td>\n",
       "      <td>-0.028050</td>\n",
       "      <td>-0.000480</td>\n",
       "      <td>-0.031225</td>\n",
       "      <td>-0.134057</td>\n",
       "      <td>-0.024462</td>\n",
       "      <td>...</td>\n",
       "      <td>-0.004898</td>\n",
       "      <td>0.184693</td>\n",
       "      <td>0.283639</td>\n",
       "      <td>-0.036527</td>\n",
       "      <td>1.000000</td>\n",
       "      <td>0.141875</td>\n",
       "      <td>0.220125</td>\n",
       "      <td>0.234751</td>\n",
       "      <td>-0.019276</td>\n",
       "      <td>0.146547</td>\n",
       "    </tr>\n",
       "    <tr>\n",
       "      <th>flip_classrom</th>\n",
       "      <td>0.228884</td>\n",
       "      <td>0.223095</td>\n",
       "      <td>0.055107</td>\n",
       "      <td>-0.095411</td>\n",
       "      <td>0.027762</td>\n",
       "      <td>0.135949</td>\n",
       "      <td>-0.082664</td>\n",
       "      <td>-0.037184</td>\n",
       "      <td>-0.158432</td>\n",
       "      <td>-0.136949</td>\n",
       "      <td>...</td>\n",
       "      <td>-0.105041</td>\n",
       "      <td>0.076236</td>\n",
       "      <td>0.155536</td>\n",
       "      <td>0.019617</td>\n",
       "      <td>0.141875</td>\n",
       "      <td>1.000000</td>\n",
       "      <td>0.180940</td>\n",
       "      <td>0.114760</td>\n",
       "      <td>-0.334647</td>\n",
       "      <td>0.110617</td>\n",
       "    </tr>\n",
       "    <tr>\n",
       "      <th>grade_previous</th>\n",
       "      <td>0.172597</td>\n",
       "      <td>0.241033</td>\n",
       "      <td>0.019802</td>\n",
       "      <td>0.236460</td>\n",
       "      <td>0.034666</td>\n",
       "      <td>0.002171</td>\n",
       "      <td>-0.058479</td>\n",
       "      <td>-0.100950</td>\n",
       "      <td>-0.036078</td>\n",
       "      <td>-0.082775</td>\n",
       "      <td>...</td>\n",
       "      <td>-0.087524</td>\n",
       "      <td>0.183201</td>\n",
       "      <td>0.143541</td>\n",
       "      <td>0.055427</td>\n",
       "      <td>0.220125</td>\n",
       "      <td>0.180940</td>\n",
       "      <td>1.000000</td>\n",
       "      <td>0.657853</td>\n",
       "      <td>-0.136473</td>\n",
       "      <td>0.315493</td>\n",
       "    </tr>\n",
       "    <tr>\n",
       "      <th>grade_expected</th>\n",
       "      <td>0.121441</td>\n",
       "      <td>0.292842</td>\n",
       "      <td>0.053497</td>\n",
       "      <td>0.243517</td>\n",
       "      <td>0.007706</td>\n",
       "      <td>-0.092476</td>\n",
       "      <td>-0.012658</td>\n",
       "      <td>-0.058644</td>\n",
       "      <td>0.005909</td>\n",
       "      <td>-0.007332</td>\n",
       "      <td>...</td>\n",
       "      <td>-0.067562</td>\n",
       "      <td>0.197000</td>\n",
       "      <td>0.184990</td>\n",
       "      <td>-0.020135</td>\n",
       "      <td>0.234751</td>\n",
       "      <td>0.114760</td>\n",
       "      <td>0.657853</td>\n",
       "      <td>1.000000</td>\n",
       "      <td>0.016830</td>\n",
       "      <td>0.248588</td>\n",
       "    </tr>\n",
       "    <tr>\n",
       "      <th>course_id</th>\n",
       "      <td>-0.304994</td>\n",
       "      <td>-0.430704</td>\n",
       "      <td>-0.118761</td>\n",
       "      <td>0.317563</td>\n",
       "      <td>-0.114794</td>\n",
       "      <td>-0.326711</td>\n",
       "      <td>0.068769</td>\n",
       "      <td>-0.123024</td>\n",
       "      <td>0.114839</td>\n",
       "      <td>0.271997</td>\n",
       "      <td>...</td>\n",
       "      <td>0.150972</td>\n",
       "      <td>0.077465</td>\n",
       "      <td>0.179658</td>\n",
       "      <td>0.135596</td>\n",
       "      <td>-0.019276</td>\n",
       "      <td>-0.334647</td>\n",
       "      <td>-0.136473</td>\n",
       "      <td>0.016830</td>\n",
       "      <td>1.000000</td>\n",
       "      <td>0.142166</td>\n",
       "    </tr>\n",
       "    <tr>\n",
       "      <th>grade</th>\n",
       "      <td>-0.095251</td>\n",
       "      <td>0.335533</td>\n",
       "      <td>0.104821</td>\n",
       "      <td>0.023963</td>\n",
       "      <td>0.167445</td>\n",
       "      <td>-0.062993</td>\n",
       "      <td>-0.051778</td>\n",
       "      <td>-0.166352</td>\n",
       "      <td>-0.156289</td>\n",
       "      <td>0.023683</td>\n",
       "      <td>...</td>\n",
       "      <td>0.014638</td>\n",
       "      <td>0.073783</td>\n",
       "      <td>0.044862</td>\n",
       "      <td>0.085137</td>\n",
       "      <td>0.146547</td>\n",
       "      <td>0.110617</td>\n",
       "      <td>0.315493</td>\n",
       "      <td>0.248588</td>\n",
       "      <td>0.142166</td>\n",
       "      <td>1.000000</td>\n",
       "    </tr>\n",
       "  </tbody>\n",
       "</table>\n",
       "<p>32 rows × 32 columns</p>\n",
       "</div>"
      ],
      "text/plain": [
       "                                   age       sex  graduated_h_school_type  \\\n",
       "age                           1.000000  0.138233                 0.294426   \n",
       "sex                           0.138233  1.000000                 0.126218   \n",
       "graduated_h_school_type       0.294426  0.126218                 1.000000   \n",
       "scholarship_type             -0.316506 -0.206876                -0.086965   \n",
       "additional_work              -0.181019  0.190476                -0.155331   \n",
       "activity                      0.138233  0.224138                 0.073627   \n",
       "partner                       0.042572 -0.125471                 0.016557   \n",
       "total_salary                  0.127853 -0.022154                -0.126440   \n",
       "transport                     0.001472 -0.013313                 0.023944   \n",
       "accomodation                 -0.199257 -0.154957                -0.018990   \n",
       "mother_ed                    -0.068972  0.062370                -0.166336   \n",
       "farther_ed                   -0.070108  0.120638                -0.134322   \n",
       "siblings                      0.069748  0.060216                 0.051827   \n",
       "parental_status               0.172668 -0.028781                 0.009990   \n",
       "mother_occup                 -0.200812 -0.056143                -0.050269   \n",
       "father_occup                 -0.141571 -0.033997                -0.131680   \n",
       "weekly_study_hours           -0.172833 -0.067750                -0.174719   \n",
       "reading_non_scientific        0.059712  0.045206                -0.010144   \n",
       "reading_scientific            0.078849 -0.005233                 0.050529   \n",
       "attendance_seminars_dep      -0.226882 -0.363971                -0.009101   \n",
       "impact_of_projects            0.007306 -0.144138                 0.124317   \n",
       "attendances_classes           0.060027 -0.065795                -0.032180   \n",
       "preparation_midterm_company  -0.044462 -0.032164                -0.027258   \n",
       "preparation_midterm_time      0.030595 -0.013833                -0.053034   \n",
       "taking_notes                 -0.181121  0.065013                 0.053969   \n",
       "listenning                    0.235576 -0.184238                 0.123405   \n",
       "discussion_improves_interest -0.100812  0.065449                -0.082461   \n",
       "flip_classrom                 0.228884  0.223095                 0.055107   \n",
       "grade_previous                0.172597  0.241033                 0.019802   \n",
       "grade_expected                0.121441  0.292842                 0.053497   \n",
       "course_id                    -0.304994 -0.430704                -0.118761   \n",
       "grade                        -0.095251  0.335533                 0.104821   \n",
       "\n",
       "                              scholarship_type  additional_work  activity  \\\n",
       "age                                  -0.316506        -0.181019  0.138233   \n",
       "sex                                  -0.206876         0.190476  0.224138   \n",
       "graduated_h_school_type              -0.086965        -0.155331  0.073627   \n",
       "scholarship_type                      1.000000         0.055351 -0.154281   \n",
       "additional_work                       0.055351         1.000000  0.220238   \n",
       "activity                             -0.154281         0.220238  1.000000   \n",
       "partner                               0.120346         0.100010 -0.011406   \n",
       "total_salary                         -0.119024        -0.118284  0.060922   \n",
       "transport                             0.028288         0.102223  0.026626   \n",
       "accomodation                          0.036543        -0.152641 -0.227030   \n",
       "mother_ed                            -0.109006         0.153780 -0.122430   \n",
       "farther_ed                           -0.222776         0.205138 -0.113252   \n",
       "siblings                             -0.037831        -0.134003  0.143273   \n",
       "parental_status                      -0.005450        -0.165492 -0.057563   \n",
       "mother_occup                          0.023919        -0.044113 -0.161412   \n",
       "father_occup                         -0.012785         0.005919  0.019123   \n",
       "weekly_study_hours                    0.003758        -0.114824 -0.129342   \n",
       "reading_non_scientific                0.008877        -0.096332 -0.281283   \n",
       "reading_scientific                    0.061543        -0.171384 -0.214557   \n",
       "attendance_seminars_dep               0.214838        -0.018640 -0.020602   \n",
       "impact_of_projects                    0.041443        -0.120973 -0.024023   \n",
       "attendances_classes                  -0.141190         0.028198  0.098693   \n",
       "preparation_midterm_company           0.027357        -0.153273 -0.124062   \n",
       "preparation_midterm_time              0.005529        -0.246770 -0.117580   \n",
       "taking_notes                          0.164447        -0.033757 -0.035007   \n",
       "listenning                            0.018147        -0.158217  0.004187   \n",
       "discussion_improves_interest          0.147922         0.078973 -0.028050   \n",
       "flip_classrom                        -0.095411         0.027762  0.135949   \n",
       "grade_previous                        0.236460         0.034666  0.002171   \n",
       "grade_expected                        0.243517         0.007706 -0.092476   \n",
       "course_id                             0.317563        -0.114794 -0.326711   \n",
       "grade                                 0.023963         0.167445 -0.062993   \n",
       "\n",
       "                               partner  total_salary  transport  accomodation  \\\n",
       "age                           0.042572      0.127853   0.001472     -0.199257   \n",
       "sex                          -0.125471     -0.022154  -0.013313     -0.154957   \n",
       "graduated_h_school_type       0.016557     -0.126440   0.023944     -0.018990   \n",
       "scholarship_type              0.120346     -0.119024   0.028288      0.036543   \n",
       "additional_work               0.100010     -0.118284   0.102223     -0.152641   \n",
       "activity                     -0.011406      0.060922   0.026626     -0.227030   \n",
       "partner                       1.000000     -0.078556   0.037811     -0.168201   \n",
       "total_salary                 -0.078556      1.000000  -0.015926      0.030177   \n",
       "transport                     0.037811     -0.015926   1.000000      0.327283   \n",
       "accomodation                 -0.168201      0.030177   0.327283      1.000000   \n",
       "mother_ed                    -0.043001      0.123932   0.168831      0.159529   \n",
       "farther_ed                    0.045241      0.031212   0.090659      0.206439   \n",
       "siblings                      0.033182      0.007866  -0.253099     -0.276875   \n",
       "parental_status              -0.128034      0.101380  -0.033565     -0.059119   \n",
       "mother_occup                 -0.211091      0.028451   0.274118      0.384892   \n",
       "father_occup                 -0.176901     -0.109689  -0.116259      0.016447   \n",
       "weekly_study_hours            0.048897     -0.097935   0.007134     -0.021241   \n",
       "reading_non_scientific        0.090581     -0.072357  -0.046942     -0.081128   \n",
       "reading_scientific           -0.004119      0.009390  -0.124146     -0.155241   \n",
       "attendance_seminars_dep       0.103634     -0.106800   0.059791      0.179520   \n",
       "impact_of_projects            0.038636      0.059872   0.070998      0.001039   \n",
       "attendances_classes           0.154225      0.111506  -0.056759     -0.135860   \n",
       "preparation_midterm_company  -0.191197      0.213079  -0.015048      0.132236   \n",
       "preparation_midterm_time     -0.031005      0.048955  -0.094471      0.009870   \n",
       "taking_notes                  0.005818     -0.235900   0.022769      0.066609   \n",
       "listenning                   -0.054734     -0.050648  -0.019064      0.146396   \n",
       "discussion_improves_interest -0.000480     -0.031225  -0.134057     -0.024462   \n",
       "flip_classrom                -0.082664     -0.037184  -0.158432     -0.136949   \n",
       "grade_previous               -0.058479     -0.100950  -0.036078     -0.082775   \n",
       "grade_expected               -0.012658     -0.058644   0.005909     -0.007332   \n",
       "course_id                     0.068769     -0.123024   0.114839      0.271997   \n",
       "grade                        -0.051778     -0.166352  -0.156289      0.023683   \n",
       "\n",
       "                              ...  preparation_midterm_company  \\\n",
       "age                           ...                    -0.044462   \n",
       "sex                           ...                    -0.032164   \n",
       "graduated_h_school_type       ...                    -0.027258   \n",
       "scholarship_type              ...                     0.027357   \n",
       "additional_work               ...                    -0.153273   \n",
       "activity                      ...                    -0.124062   \n",
       "partner                       ...                    -0.191197   \n",
       "total_salary                  ...                     0.213079   \n",
       "transport                     ...                    -0.015048   \n",
       "accomodation                  ...                     0.132236   \n",
       "mother_ed                     ...                     0.195258   \n",
       "farther_ed                    ...                     0.077854   \n",
       "siblings                      ...                    -0.120674   \n",
       "parental_status               ...                     0.127751   \n",
       "mother_occup                  ...                     0.188353   \n",
       "father_occup                  ...                    -0.047039   \n",
       "weekly_study_hours            ...                    -0.145267   \n",
       "reading_non_scientific        ...                    -0.046113   \n",
       "reading_scientific            ...                     0.069540   \n",
       "attendance_seminars_dep       ...                     0.069295   \n",
       "impact_of_projects            ...                     0.170210   \n",
       "attendances_classes           ...                    -0.126975   \n",
       "preparation_midterm_company   ...                     1.000000   \n",
       "preparation_midterm_time      ...                     0.273440   \n",
       "taking_notes                  ...                    -0.053909   \n",
       "listenning                    ...                     0.038441   \n",
       "discussion_improves_interest  ...                    -0.004898   \n",
       "flip_classrom                 ...                    -0.105041   \n",
       "grade_previous                ...                    -0.087524   \n",
       "grade_expected                ...                    -0.067562   \n",
       "course_id                     ...                     0.150972   \n",
       "grade                         ...                     0.014638   \n",
       "\n",
       "                              preparation_midterm_time  taking_notes  \\\n",
       "age                                           0.030595     -0.181121   \n",
       "sex                                          -0.013833      0.065013   \n",
       "graduated_h_school_type                      -0.053034      0.053969   \n",
       "scholarship_type                              0.005529      0.164447   \n",
       "additional_work                              -0.246770     -0.033757   \n",
       "activity                                     -0.117580     -0.035007   \n",
       "partner                                      -0.031005      0.005818   \n",
       "total_salary                                  0.048955     -0.235900   \n",
       "transport                                    -0.094471      0.022769   \n",
       "accomodation                                  0.009870      0.066609   \n",
       "mother_ed                                    -0.010928     -0.023497   \n",
       "farther_ed                                   -0.047816      0.073653   \n",
       "siblings                                      0.120378     -0.006729   \n",
       "parental_status                               0.341596     -0.215903   \n",
       "mother_occup                                  0.008300      0.025480   \n",
       "father_occup                                 -0.055816     -0.025375   \n",
       "weekly_study_hours                            0.281668      0.163465   \n",
       "reading_non_scientific                        0.040021      0.029691   \n",
       "reading_scientific                            0.084044      0.111801   \n",
       "attendance_seminars_dep                       0.118555      0.212451   \n",
       "impact_of_projects                           -0.027914      0.055504   \n",
       "attendances_classes                          -0.189765     -0.145107   \n",
       "preparation_midterm_company                   0.273440     -0.053909   \n",
       "preparation_midterm_time                      1.000000      0.057903   \n",
       "taking_notes                                  0.057903      1.000000   \n",
       "listenning                                   -0.108951     -0.024751   \n",
       "discussion_improves_interest                  0.184693      0.283639   \n",
       "flip_classrom                                 0.076236      0.155536   \n",
       "grade_previous                                0.183201      0.143541   \n",
       "grade_expected                                0.197000      0.184990   \n",
       "course_id                                     0.077465      0.179658   \n",
       "grade                                         0.073783      0.044862   \n",
       "\n",
       "                              listenning  discussion_improves_interest  \\\n",
       "age                             0.235576                     -0.100812   \n",
       "sex                            -0.184238                      0.065449   \n",
       "graduated_h_school_type         0.123405                     -0.082461   \n",
       "scholarship_type                0.018147                      0.147922   \n",
       "additional_work                -0.158217                      0.078973   \n",
       "activity                        0.004187                     -0.028050   \n",
       "partner                        -0.054734                     -0.000480   \n",
       "total_salary                   -0.050648                     -0.031225   \n",
       "transport                      -0.019064                     -0.134057   \n",
       "accomodation                    0.146396                     -0.024462   \n",
       "mother_ed                      -0.027450                      0.017689   \n",
       "farther_ed                     -0.081400                     -0.051725   \n",
       "siblings                        0.102455                      0.160517   \n",
       "parental_status                -0.049893                     -0.066199   \n",
       "mother_occup                   -0.113370                      0.007972   \n",
       "father_occup                   -0.026744                     -0.025866   \n",
       "weekly_study_hours             -0.107697                      0.020040   \n",
       "reading_non_scientific         -0.101711                      0.064246   \n",
       "reading_scientific              0.016960                     -0.038018   \n",
       "attendance_seminars_dep         0.007246                      0.022730   \n",
       "impact_of_projects             -0.011467                     -0.113204   \n",
       "attendances_classes            -0.094221                     -0.073821   \n",
       "preparation_midterm_company     0.038441                     -0.004898   \n",
       "preparation_midterm_time       -0.108951                      0.184693   \n",
       "taking_notes                   -0.024751                      0.283639   \n",
       "listenning                      1.000000                     -0.036527   \n",
       "discussion_improves_interest   -0.036527                      1.000000   \n",
       "flip_classrom                   0.019617                      0.141875   \n",
       "grade_previous                  0.055427                      0.220125   \n",
       "grade_expected                 -0.020135                      0.234751   \n",
       "course_id                       0.135596                     -0.019276   \n",
       "grade                           0.085137                      0.146547   \n",
       "\n",
       "                              flip_classrom  grade_previous  grade_expected  \\\n",
       "age                                0.228884        0.172597        0.121441   \n",
       "sex                                0.223095        0.241033        0.292842   \n",
       "graduated_h_school_type            0.055107        0.019802        0.053497   \n",
       "scholarship_type                  -0.095411        0.236460        0.243517   \n",
       "additional_work                    0.027762        0.034666        0.007706   \n",
       "activity                           0.135949        0.002171       -0.092476   \n",
       "partner                           -0.082664       -0.058479       -0.012658   \n",
       "total_salary                      -0.037184       -0.100950       -0.058644   \n",
       "transport                         -0.158432       -0.036078        0.005909   \n",
       "accomodation                      -0.136949       -0.082775       -0.007332   \n",
       "mother_ed                         -0.035607       -0.065851       -0.072417   \n",
       "farther_ed                         0.072915       -0.081027       -0.188972   \n",
       "siblings                           0.173759        0.135240        0.085065   \n",
       "parental_status                   -0.003010        0.085872        0.183650   \n",
       "mother_occup                      -0.127259       -0.016276       -0.006165   \n",
       "father_occup                      -0.054173       -0.030203        0.064253   \n",
       "weekly_study_hours                 0.014943        0.008145        0.066071   \n",
       "reading_non_scientific             0.189729       -0.075979        0.064566   \n",
       "reading_scientific                 0.037870       -0.071658        0.190187   \n",
       "attendance_seminars_dep           -0.146074       -0.192637       -0.045090   \n",
       "impact_of_projects                -0.046727       -0.097340       -0.099526   \n",
       "attendances_classes                0.074998       -0.178305       -0.182535   \n",
       "preparation_midterm_company       -0.105041       -0.087524       -0.067562   \n",
       "preparation_midterm_time           0.076236        0.183201        0.197000   \n",
       "taking_notes                       0.155536        0.143541        0.184990   \n",
       "listenning                         0.019617        0.055427       -0.020135   \n",
       "discussion_improves_interest       0.141875        0.220125        0.234751   \n",
       "flip_classrom                      1.000000        0.180940        0.114760   \n",
       "grade_previous                     0.180940        1.000000        0.657853   \n",
       "grade_expected                     0.114760        0.657853        1.000000   \n",
       "course_id                         -0.334647       -0.136473        0.016830   \n",
       "grade                              0.110617        0.315493        0.248588   \n",
       "\n",
       "                              course_id     grade  \n",
       "age                           -0.304994 -0.095251  \n",
       "sex                           -0.430704  0.335533  \n",
       "graduated_h_school_type       -0.118761  0.104821  \n",
       "scholarship_type               0.317563  0.023963  \n",
       "additional_work               -0.114794  0.167445  \n",
       "activity                      -0.326711 -0.062993  \n",
       "partner                        0.068769 -0.051778  \n",
       "total_salary                  -0.123024 -0.166352  \n",
       "transport                      0.114839 -0.156289  \n",
       "accomodation                   0.271997  0.023683  \n",
       "mother_ed                      0.107332  0.066318  \n",
       "farther_ed                    -0.068783  0.063504  \n",
       "siblings                      -0.178987  0.084470  \n",
       "parental_status                0.076921  0.066379  \n",
       "mother_occup                   0.138063 -0.030747  \n",
       "father_occup                   0.036315 -0.044268  \n",
       "weekly_study_hours             0.172280 -0.033065  \n",
       "reading_non_scientific         0.079710  0.195617  \n",
       "reading_scientific             0.125221  0.003189  \n",
       "attendance_seminars_dep        0.434601 -0.184763  \n",
       "impact_of_projects             0.105300 -0.203273  \n",
       "attendances_classes           -0.196372 -0.139564  \n",
       "preparation_midterm_company    0.150972  0.014638  \n",
       "preparation_midterm_time       0.077465  0.073783  \n",
       "taking_notes                   0.179658  0.044862  \n",
       "listenning                     0.135596  0.085137  \n",
       "discussion_improves_interest  -0.019276  0.146547  \n",
       "flip_classrom                 -0.334647  0.110617  \n",
       "grade_previous                -0.136473  0.315493  \n",
       "grade_expected                 0.016830  0.248588  \n",
       "course_id                      1.000000  0.142166  \n",
       "grade                          0.142166  1.000000  \n",
       "\n",
       "[32 rows x 32 columns]"
      ]
     },
     "execution_count": 69,
     "metadata": {},
     "output_type": "execute_result"
    }
   ],
   "source": [
    "studentData.corr()"
   ]
  },
  {
   "cell_type": "markdown",
   "id": "e090ea73",
   "metadata": {},
   "source": [
    "It appears that this dataset's features do not correlate to each other very well. This may be the reason the algorthims had a difficult time on this dataset."
   ]
  }
 ],
 "metadata": {
  "kernelspec": {
   "display_name": "Python 3 (ipykernel)",
   "language": "python",
   "name": "python3"
  },
  "language_info": {
   "codemirror_mode": {
    "name": "ipython",
    "version": 3
   },
   "file_extension": ".py",
   "mimetype": "text/x-python",
   "name": "python",
   "nbconvert_exporter": "python",
   "pygments_lexer": "ipython3",
   "version": "3.9.13"
  }
 },
 "nbformat": 4,
 "nbformat_minor": 5
}
