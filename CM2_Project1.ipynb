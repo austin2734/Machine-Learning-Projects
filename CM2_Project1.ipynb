{
  "nbformat": 4,
  "nbformat_minor": 0,
  "metadata": {
    "colab": {
      "provenance": []
    },
    "kernelspec": {
      "name": "python3",
      "display_name": "Python 3"
    },
    "language_info": {
      "name": "python"
    }
  },
  "cells": [
    {
      "cell_type": "markdown",
      "source": [
        "**CM2_Project1**\n",
        "\n",
        "\n"
      ],
      "metadata": {
        "id": "LkydkprMZAgo"
      }
    },
    {
      "cell_type": "markdown",
      "source": [
        "**Austin Riggs**"
      ],
      "metadata": {
        "id": "jXmdPghFZxEW"
      }
    },
    {
      "cell_type": "markdown",
      "source": [
        "**9/22/2023**"
      ],
      "metadata": {
        "id": "2mnxkmmIZ4iN"
      }
    },
    {
      "cell_type": "code",
      "execution_count": null,
      "metadata": {
        "id": "iJMtkXDvCopY"
      },
      "outputs": [],
      "source": [
        "import tensorflow as tf\n",
        "from tensorflow import keras"
      ]
    },
    {
      "cell_type": "markdown",
      "source": [
        "**I am using the MNIST dataset for this assignment. Here I download the dataset and store it as a training and test set**"
      ],
      "metadata": {
        "id": "DnpmtMtdGF4P"
      }
    },
    {
      "cell_type": "code",
      "source": [
        "mnist = keras.datasets.mnist"
      ],
      "metadata": {
        "id": "it33rLJdCr2Z"
      },
      "execution_count": null,
      "outputs": []
    },
    {
      "cell_type": "code",
      "source": [
        "(X_train_full, y_train_full), (X_test, y_test) = mnist.load_data()"
      ],
      "metadata": {
        "colab": {
          "base_uri": "https://localhost:8080/"
        },
        "id": "SiO6ZzLiCxin",
        "outputId": "9af30f11-7fc9-42c0-a6b9-0a17297dea32"
      },
      "execution_count": null,
      "outputs": [
        {
          "output_type": "stream",
          "name": "stdout",
          "text": [
            "Downloading data from https://storage.googleapis.com/tensorflow/tf-keras-datasets/mnist.npz\n",
            "11490434/11490434 [==============================] - 0s 0us/step\n"
          ]
        }
      ]
    },
    {
      "cell_type": "code",
      "source": [
        "X_train_full.shape"
      ],
      "metadata": {
        "colab": {
          "base_uri": "https://localhost:8080/"
        },
        "id": "KQ1nBBsZC5re",
        "outputId": "472c78be-2396-4cd5-8935-5514418e5732"
      },
      "execution_count": null,
      "outputs": [
        {
          "output_type": "execute_result",
          "data": {
            "text/plain": [
              "(60000, 28, 28)"
            ]
          },
          "metadata": {},
          "execution_count": 4
        }
      ]
    },
    {
      "cell_type": "code",
      "source": [
        "X_test.shape"
      ],
      "metadata": {
        "colab": {
          "base_uri": "https://localhost:8080/"
        },
        "id": "rIzROs2xDBUO",
        "outputId": "5b8c989d-6936-4ea9-d93a-d1201487a19f"
      },
      "execution_count": null,
      "outputs": [
        {
          "output_type": "execute_result",
          "data": {
            "text/plain": [
              "(10000, 28, 28)"
            ]
          },
          "metadata": {},
          "execution_count": 5
        }
      ]
    },
    {
      "cell_type": "markdown",
      "source": [
        "**I take 15% of the training set and create a validation set with it. I also divide both by 255.0 to get the the pixel values down between the range of 0 to 1.**"
      ],
      "metadata": {
        "id": "az0O58pgG1uc"
      }
    },
    {
      "cell_type": "code",
      "source": [
        "X_valid, X_train = X_train_full[:9000] / 255.0, X_train_full[9000:] / 255.0\n",
        "y_valid, y_train = y_train_full[:9000], y_train_full[9000:]\n",
        "X_test = X_test / 255.0"
      ],
      "metadata": {
        "id": "5SfmJoIVDDmO"
      },
      "execution_count": null,
      "outputs": []
    },
    {
      "cell_type": "code",
      "source": [
        "X_train.shape, X_valid.shape, X_test.shape"
      ],
      "metadata": {
        "colab": {
          "base_uri": "https://localhost:8080/"
        },
        "id": "SxWRICoiDtEb",
        "outputId": "be2abf15-fd68-4f23-f2bb-bf5f03541fb9"
      },
      "execution_count": null,
      "outputs": [
        {
          "output_type": "execute_result",
          "data": {
            "text/plain": [
              "((51000, 28, 28), (9000, 28, 28), (10000, 28, 28))"
            ]
          },
          "metadata": {},
          "execution_count": 7
        }
      ]
    },
    {
      "cell_type": "markdown",
      "source": [
        "**I create my first model with an input layer, 5 hidden layers, and an output layer. The first hidden layer starts with 300 neurons and goes down to 25 before hitting the output layer. I try the \"relu\" activation method here and initialize each kernal to \"he_normal\".**"
      ],
      "metadata": {
        "id": "sY3LdA0rJEXY"
      }
    },
    {
      "cell_type": "code",
      "source": [
        "model = keras.models.Sequential([\n",
        "    keras.layers.Flatten(input_shape=[28, 28]),\n",
        "    keras.layers.BatchNormalization(),\n",
        "    keras.layers.Dense(300, activation=\"relu\", kernel_initializer=\"he_normal\"),\n",
        "    keras.layers.BatchNormalization(),\n",
        "    keras.layers.Dense(200, activation=\"relu\", kernel_initializer=\"he_normal\"),\n",
        "    keras.layers.BatchNormalization(),\n",
        "    keras.layers.Dense(100, activation=\"relu\", kernel_initializer=\"he_normal\"),\n",
        "    keras.layers.BatchNormalization(),\n",
        "    keras.layers.Dense(50, activation=\"relu\", kernel_initializer=\"he_normal\"),\n",
        "    keras.layers.BatchNormalization(),\n",
        "    keras.layers.Dense(25, activation=\"relu\", kernel_initializer=\"he_normal\"),\n",
        "    keras.layers.BatchNormalization(),\n",
        "    keras.layers.Dense(10, activation=\"softmax\")\n",
        "])"
      ],
      "metadata": {
        "id": "ZgBMRrj0EU2I"
      },
      "execution_count": null,
      "outputs": []
    },
    {
      "cell_type": "code",
      "source": [
        "model.summary()"
      ],
      "metadata": {
        "colab": {
          "base_uri": "https://localhost:8080/"
        },
        "id": "EWtJFp84EJLR",
        "outputId": "2387a996-2228-4692-df5f-ccfafad055cb"
      },
      "execution_count": null,
      "outputs": [
        {
          "output_type": "stream",
          "name": "stdout",
          "text": [
            "Model: \"sequential\"\n",
            "_________________________________________________________________\n",
            " Layer (type)                Output Shape              Param #   \n",
            "=================================================================\n",
            " flatten (Flatten)           (None, 784)               0         \n",
            "                                                                 \n",
            " batch_normalization (Batch  (None, 784)               3136      \n",
            " Normalization)                                                  \n",
            "                                                                 \n",
            " dense (Dense)               (None, 300)               235500    \n",
            "                                                                 \n",
            " batch_normalization_1 (Bat  (None, 300)               1200      \n",
            " chNormalization)                                                \n",
            "                                                                 \n",
            " dense_1 (Dense)             (None, 200)               60200     \n",
            "                                                                 \n",
            " batch_normalization_2 (Bat  (None, 200)               800       \n",
            " chNormalization)                                                \n",
            "                                                                 \n",
            " dense_2 (Dense)             (None, 100)               20100     \n",
            "                                                                 \n",
            " batch_normalization_3 (Bat  (None, 100)               400       \n",
            " chNormalization)                                                \n",
            "                                                                 \n",
            " dense_3 (Dense)             (None, 50)                5050      \n",
            "                                                                 \n",
            " batch_normalization_4 (Bat  (None, 50)                200       \n",
            " chNormalization)                                                \n",
            "                                                                 \n",
            " dense_4 (Dense)             (None, 25)                1275      \n",
            "                                                                 \n",
            " batch_normalization_5 (Bat  (None, 25)                100       \n",
            " chNormalization)                                                \n",
            "                                                                 \n",
            " dense_5 (Dense)             (None, 10)                260       \n",
            "                                                                 \n",
            "=================================================================\n",
            "Total params: 328221 (1.25 MB)\n",
            "Trainable params: 325303 (1.24 MB)\n",
            "Non-trainable params: 2918 (11.40 KB)\n",
            "_________________________________________________________________\n"
          ]
        }
      ]
    },
    {
      "cell_type": "code",
      "source": [
        "model.compile(loss=\"sparse_categorical_crossentropy\",\n",
        "              optimizer=\"adam\",\n",
        "              metrics=[\"accuracy\"])"
      ],
      "metadata": {
        "id": "Ju0_vJk6EPg5"
      },
      "execution_count": null,
      "outputs": []
    },
    {
      "cell_type": "code",
      "source": [
        "model.fit(X_train, y_train, epochs=5, validation_data=(X_valid, y_valid))"
      ],
      "metadata": {
        "colab": {
          "base_uri": "https://localhost:8080/"
        },
        "id": "iTXoIpbZE0B3",
        "outputId": "ce7015ff-6c86-4bb3-f595-22331dcdbda1"
      },
      "execution_count": null,
      "outputs": [
        {
          "output_type": "stream",
          "name": "stdout",
          "text": [
            "Epoch 1/5\n",
            "1594/1594 [==============================] - 23s 12ms/step - loss: 0.3516 - accuracy: 0.8977 - val_loss: 0.1673 - val_accuracy: 0.9510\n",
            "Epoch 2/5\n",
            "1594/1594 [==============================] - 18s 12ms/step - loss: 0.1650 - accuracy: 0.9502 - val_loss: 0.1312 - val_accuracy: 0.9623\n",
            "Epoch 3/5\n",
            "1594/1594 [==============================] - 20s 13ms/step - loss: 0.1259 - accuracy: 0.9614 - val_loss: 0.1091 - val_accuracy: 0.9703\n",
            "Epoch 4/5\n",
            "1594/1594 [==============================] - 19s 12ms/step - loss: 0.1041 - accuracy: 0.9680 - val_loss: 0.0934 - val_accuracy: 0.9734\n",
            "Epoch 5/5\n",
            "1594/1594 [==============================] - 20s 12ms/step - loss: 0.0880 - accuracy: 0.9727 - val_loss: 0.0953 - val_accuracy: 0.9710\n"
          ]
        },
        {
          "output_type": "execute_result",
          "data": {
            "text/plain": [
              "<keras.src.callbacks.History at 0x78aeadfc5030>"
            ]
          },
          "metadata": {},
          "execution_count": 11
        }
      ]
    },
    {
      "cell_type": "code",
      "source": [
        "model.evaluate(X_test, y_test)"
      ],
      "metadata": {
        "colab": {
          "base_uri": "https://localhost:8080/"
        },
        "id": "3SF1DXGdFDsN",
        "outputId": "ccec0e5e-59a8-4e33-e58e-b214d865c03f"
      },
      "execution_count": null,
      "outputs": [
        {
          "output_type": "stream",
          "name": "stdout",
          "text": [
            "313/313 [==============================] - 1s 3ms/step - loss: 0.0927 - accuracy: 0.9721\n"
          ]
        },
        {
          "output_type": "execute_result",
          "data": {
            "text/plain": [
              "[0.09267117828130722, 0.972100019454956]"
            ]
          },
          "metadata": {},
          "execution_count": 12
        }
      ]
    },
    {
      "cell_type": "markdown",
      "source": [
        "**97% is great! I will experiment with a few other configurations to see how they work. I will try again with a different number of neurons in each layer.**"
      ],
      "metadata": {
        "id": "wbyEJg2tKRaM"
      }
    },
    {
      "cell_type": "code",
      "source": [
        "model = keras.models.Sequential([\n",
        "    keras.layers.Flatten(input_shape=[28, 28]),\n",
        "    keras.layers.BatchNormalization(),\n",
        "    keras.layers.Dense(300, activation=\"relu\", kernel_initializer=\"he_normal\"),\n",
        "    keras.layers.BatchNormalization(),\n",
        "    keras.layers.Dense(300, activation=\"relu\", kernel_initializer=\"he_normal\"),\n",
        "    keras.layers.BatchNormalization(),\n",
        "    keras.layers.Dense(100, activation=\"relu\", kernel_initializer=\"he_normal\"),\n",
        "    keras.layers.BatchNormalization(),\n",
        "    keras.layers.Dense(100, activation=\"relu\", kernel_initializer=\"he_normal\"),\n",
        "    keras.layers.BatchNormalization(),\n",
        "    keras.layers.Dense(100, activation=\"relu\", kernel_initializer=\"he_normal\"),\n",
        "    keras.layers.BatchNormalization(),\n",
        "    keras.layers.Dense(10, activation=\"softmax\")\n",
        "])"
      ],
      "metadata": {
        "id": "wTS8iPttKgt9"
      },
      "execution_count": null,
      "outputs": []
    },
    {
      "cell_type": "code",
      "source": [
        "model.summary()"
      ],
      "metadata": {
        "colab": {
          "base_uri": "https://localhost:8080/"
        },
        "id": "2SMkWlzDKxy0",
        "outputId": "307adfd7-ab62-45a4-ac64-efce0aca46d9"
      },
      "execution_count": null,
      "outputs": [
        {
          "output_type": "stream",
          "name": "stdout",
          "text": [
            "Model: \"sequential_1\"\n",
            "_________________________________________________________________\n",
            " Layer (type)                Output Shape              Param #   \n",
            "=================================================================\n",
            " flatten_1 (Flatten)         (None, 784)               0         \n",
            "                                                                 \n",
            " batch_normalization_6 (Bat  (None, 784)               3136      \n",
            " chNormalization)                                                \n",
            "                                                                 \n",
            " dense_6 (Dense)             (None, 300)               235500    \n",
            "                                                                 \n",
            " batch_normalization_7 (Bat  (None, 300)               1200      \n",
            " chNormalization)                                                \n",
            "                                                                 \n",
            " dense_7 (Dense)             (None, 300)               90300     \n",
            "                                                                 \n",
            " batch_normalization_8 (Bat  (None, 300)               1200      \n",
            " chNormalization)                                                \n",
            "                                                                 \n",
            " dense_8 (Dense)             (None, 100)               30100     \n",
            "                                                                 \n",
            " batch_normalization_9 (Bat  (None, 100)               400       \n",
            " chNormalization)                                                \n",
            "                                                                 \n",
            " dense_9 (Dense)             (None, 100)               10100     \n",
            "                                                                 \n",
            " batch_normalization_10 (Ba  (None, 100)               400       \n",
            " tchNormalization)                                               \n",
            "                                                                 \n",
            " dense_10 (Dense)            (None, 100)               10100     \n",
            "                                                                 \n",
            " batch_normalization_11 (Ba  (None, 100)               400       \n",
            " tchNormalization)                                               \n",
            "                                                                 \n",
            " dense_11 (Dense)            (None, 10)                1010      \n",
            "                                                                 \n",
            "=================================================================\n",
            "Total params: 383846 (1.46 MB)\n",
            "Trainable params: 380478 (1.45 MB)\n",
            "Non-trainable params: 3368 (13.16 KB)\n",
            "_________________________________________________________________\n"
          ]
        }
      ]
    },
    {
      "cell_type": "code",
      "source": [
        "model.compile(loss=\"sparse_categorical_crossentropy\",\n",
        "              optimizer=\"adam\",\n",
        "              metrics=[\"accuracy\"])"
      ],
      "metadata": {
        "id": "EpvQAhg7Kz0D"
      },
      "execution_count": null,
      "outputs": []
    },
    {
      "cell_type": "code",
      "source": [
        "model.fit(X_train, y_train, epochs=5, validation_data=(X_valid, y_valid))"
      ],
      "metadata": {
        "colab": {
          "base_uri": "https://localhost:8080/"
        },
        "id": "PtewONY9LAXL",
        "outputId": "1ed0d7ec-f1bd-4721-816f-8c3aead3a008"
      },
      "execution_count": null,
      "outputs": [
        {
          "output_type": "stream",
          "name": "stdout",
          "text": [
            "Epoch 1/5\n",
            "1594/1594 [==============================] - 26s 14ms/step - loss: 0.3132 - accuracy: 0.9049 - val_loss: 0.1348 - val_accuracy: 0.9608\n",
            "Epoch 2/5\n",
            "1594/1594 [==============================] - 22s 14ms/step - loss: 0.1564 - accuracy: 0.9520 - val_loss: 0.1307 - val_accuracy: 0.9614\n",
            "Epoch 3/5\n",
            "1594/1594 [==============================] - 21s 13ms/step - loss: 0.1218 - accuracy: 0.9620 - val_loss: 0.1109 - val_accuracy: 0.9679\n",
            "Epoch 4/5\n",
            "1594/1594 [==============================] - 22s 14ms/step - loss: 0.1045 - accuracy: 0.9678 - val_loss: 0.1061 - val_accuracy: 0.9698\n",
            "Epoch 5/5\n",
            "1594/1594 [==============================] - 21s 13ms/step - loss: 0.0866 - accuracy: 0.9730 - val_loss: 0.0991 - val_accuracy: 0.9749\n"
          ]
        },
        {
          "output_type": "execute_result",
          "data": {
            "text/plain": [
              "<keras.src.callbacks.History at 0x78ae80ddc370>"
            ]
          },
          "metadata": {},
          "execution_count": 16
        }
      ]
    },
    {
      "cell_type": "code",
      "source": [
        "model.evaluate(X_test, y_test)"
      ],
      "metadata": {
        "colab": {
          "base_uri": "https://localhost:8080/"
        },
        "id": "OEYr9DOPLCVT",
        "outputId": "4bf22ed7-b1c2-429a-92c4-46f2fa918b7e"
      },
      "execution_count": null,
      "outputs": [
        {
          "output_type": "stream",
          "name": "stdout",
          "text": [
            "313/313 [==============================] - 1s 4ms/step - loss: 0.1040 - accuracy: 0.9717\n"
          ]
        },
        {
          "output_type": "execute_result",
          "data": {
            "text/plain": [
              "[0.10396336764097214, 0.9717000126838684]"
            ]
          },
          "metadata": {},
          "execution_count": 17
        }
      ]
    },
    {
      "cell_type": "markdown",
      "source": [
        "**97%, same as before. I am curious how this model would work with selu and \"lecun_normal\" so I will go ahead and try it.**\n",
        "\n"
      ],
      "metadata": {
        "id": "FgiGmXkkLjJ2"
      }
    },
    {
      "cell_type": "code",
      "source": [
        "model = keras.models.Sequential([\n",
        "    keras.layers.Flatten(input_shape=[28, 28]),\n",
        "    keras.layers.BatchNormalization(),\n",
        "    keras.layers.Dense(600, activation=\"selu\", kernel_initializer=\"lecun_normal\"),\n",
        "    keras.layers.BatchNormalization(),\n",
        "    keras.layers.Dense(300, activation=\"selu\", kernel_initializer=\"lecun_normal\"),\n",
        "    keras.layers.BatchNormalization(),\n",
        "    keras.layers.Dense(200, activation=\"selu\", kernel_initializer=\"lecun_normal\"),\n",
        "    keras.layers.BatchNormalization(),\n",
        "    keras.layers.Dense(100, activation=\"selu\", kernel_initializer=\"lecun_normal\"),\n",
        "    keras.layers.BatchNormalization(),\n",
        "    keras.layers.Dense(50, activation=\"selu\", kernel_initializer=\"lecun_normal\"),\n",
        "    keras.layers.BatchNormalization(),\n",
        "    keras.layers.Dense(10, activation=\"softmax\")\n",
        "])"
      ],
      "metadata": {
        "id": "2nQJmjVWLbVq"
      },
      "execution_count": null,
      "outputs": []
    },
    {
      "cell_type": "code",
      "source": [
        "model.summary()"
      ],
      "metadata": {
        "colab": {
          "base_uri": "https://localhost:8080/"
        },
        "id": "0EJ5jtVTMXbN",
        "outputId": "bda4ea1d-f706-48b5-a5c7-06d9e0e8bee1"
      },
      "execution_count": null,
      "outputs": [
        {
          "output_type": "stream",
          "name": "stdout",
          "text": [
            "Model: \"sequential_2\"\n",
            "_________________________________________________________________\n",
            " Layer (type)                Output Shape              Param #   \n",
            "=================================================================\n",
            " flatten_2 (Flatten)         (None, 784)               0         \n",
            "                                                                 \n",
            " batch_normalization_12 (Ba  (None, 784)               3136      \n",
            " tchNormalization)                                               \n",
            "                                                                 \n",
            " dense_12 (Dense)            (None, 600)               471000    \n",
            "                                                                 \n",
            " batch_normalization_13 (Ba  (None, 600)               2400      \n",
            " tchNormalization)                                               \n",
            "                                                                 \n",
            " dense_13 (Dense)            (None, 300)               180300    \n",
            "                                                                 \n",
            " batch_normalization_14 (Ba  (None, 300)               1200      \n",
            " tchNormalization)                                               \n",
            "                                                                 \n",
            " dense_14 (Dense)            (None, 200)               60200     \n",
            "                                                                 \n",
            " batch_normalization_15 (Ba  (None, 200)               800       \n",
            " tchNormalization)                                               \n",
            "                                                                 \n",
            " dense_15 (Dense)            (None, 100)               20100     \n",
            "                                                                 \n",
            " batch_normalization_16 (Ba  (None, 100)               400       \n",
            " tchNormalization)                                               \n",
            "                                                                 \n",
            " dense_16 (Dense)            (None, 50)                5050      \n",
            "                                                                 \n",
            " batch_normalization_17 (Ba  (None, 50)                200       \n",
            " tchNormalization)                                               \n",
            "                                                                 \n",
            " dense_17 (Dense)            (None, 10)                510       \n",
            "                                                                 \n",
            "=================================================================\n",
            "Total params: 745296 (2.84 MB)\n",
            "Trainable params: 741228 (2.83 MB)\n",
            "Non-trainable params: 4068 (15.89 KB)\n",
            "_________________________________________________________________\n"
          ]
        }
      ]
    },
    {
      "cell_type": "code",
      "source": [
        "model.compile(loss=\"sparse_categorical_crossentropy\",\n",
        "              optimizer=\"adam\",\n",
        "              metrics=[\"accuracy\"])"
      ],
      "metadata": {
        "id": "cGRID6MJMpE0"
      },
      "execution_count": null,
      "outputs": []
    },
    {
      "cell_type": "code",
      "source": [
        "model.fit(X_train, y_train, epochs=5, validation_data=(X_valid, y_valid))"
      ],
      "metadata": {
        "colab": {
          "base_uri": "https://localhost:8080/"
        },
        "id": "i1R8vA1WMrkE",
        "outputId": "6bebd6f0-bbf8-4331-dd4b-b0cd0dc3d8d8"
      },
      "execution_count": null,
      "outputs": [
        {
          "output_type": "stream",
          "name": "stdout",
          "text": [
            "Epoch 1/5\n",
            "1594/1594 [==============================] - 35s 20ms/step - loss: 0.2887 - accuracy: 0.9108 - val_loss: 0.1476 - val_accuracy: 0.9567\n",
            "Epoch 2/5\n",
            "1594/1594 [==============================] - 33s 21ms/step - loss: 0.1509 - accuracy: 0.9534 - val_loss: 0.1164 - val_accuracy: 0.9653\n",
            "Epoch 3/5\n",
            "1594/1594 [==============================] - 30s 19ms/step - loss: 0.1145 - accuracy: 0.9645 - val_loss: 0.1060 - val_accuracy: 0.9700\n",
            "Epoch 4/5\n",
            "1594/1594 [==============================] - 30s 19ms/step - loss: 0.0911 - accuracy: 0.9711 - val_loss: 0.1063 - val_accuracy: 0.9718\n",
            "Epoch 5/5\n",
            "1594/1594 [==============================] - 31s 19ms/step - loss: 0.0800 - accuracy: 0.9754 - val_loss: 0.0881 - val_accuracy: 0.9760\n"
          ]
        },
        {
          "output_type": "execute_result",
          "data": {
            "text/plain": [
              "<keras.src.callbacks.History at 0x78aeb0e8f550>"
            ]
          },
          "metadata": {},
          "execution_count": 21
        }
      ]
    },
    {
      "cell_type": "code",
      "source": [
        "model.evaluate(X_test, y_test)"
      ],
      "metadata": {
        "colab": {
          "base_uri": "https://localhost:8080/"
        },
        "id": "MieWbo6aMt2T",
        "outputId": "e269b746-3ef6-4698-cbd1-6e45ea01d28f"
      },
      "execution_count": null,
      "outputs": [
        {
          "output_type": "stream",
          "name": "stdout",
          "text": [
            "313/313 [==============================] - 2s 5ms/step - loss: 0.0884 - accuracy: 0.9762\n"
          ]
        },
        {
          "output_type": "execute_result",
          "data": {
            "text/plain": [
              "[0.08844096958637238, 0.9761999845504761]"
            ]
          },
          "metadata": {},
          "execution_count": 22
        }
      ]
    },
    {
      "cell_type": "code",
      "source": [],
      "metadata": {
        "id": "Y4x8O7dBNvZf"
      },
      "execution_count": null,
      "outputs": []
    },
    {
      "cell_type": "markdown",
      "source": [
        "**97% again! I want to try a model without the batchnormalization to see how that works out. This time I will try ReLU with LeakyReLU**"
      ],
      "metadata": {
        "id": "9-fR15IVOOhV"
      }
    },
    {
      "cell_type": "code",
      "source": [
        "model = keras.models.Sequential([\n",
        "    keras.layers.Flatten(input_shape=[28, 28]),\n",
        "    keras.layers.Dense(600, kernel_initializer=\"he_normal\"),\n",
        "    keras.layers.LeakyReLU(alpha=0.2),\n",
        "    keras.layers.Dense(300, kernel_initializer=\"he_normal\"),\n",
        "    keras.layers.LeakyReLU(alpha=0.2),\n",
        "    keras.layers.Dense(200, kernel_initializer=\"he_normal\"),\n",
        "    keras.layers.LeakyReLU(alpha=0.2),\n",
        "    keras.layers.Dense(100, kernel_initializer=\"he_normal\"),\n",
        "    keras.layers.LeakyReLU(alpha=0.2),\n",
        "    keras.layers.Dense(50, kernel_initializer=\"he_normal\"),\n",
        "    keras.layers.LeakyReLU(alpha=0.2),\n",
        "    keras.layers.Dense(10, activation=\"softmax\")\n",
        "])"
      ],
      "metadata": {
        "id": "Dqin_c1AN05-"
      },
      "execution_count": null,
      "outputs": []
    },
    {
      "cell_type": "code",
      "source": [
        "model.summary()"
      ],
      "metadata": {
        "colab": {
          "base_uri": "https://localhost:8080/"
        },
        "id": "8e6Y9tRNOzVr",
        "outputId": "003a4145-5872-4179-dfdf-aa2e684b237e"
      },
      "execution_count": null,
      "outputs": [
        {
          "output_type": "stream",
          "name": "stdout",
          "text": [
            "Model: \"sequential_3\"\n",
            "_________________________________________________________________\n",
            " Layer (type)                Output Shape              Param #   \n",
            "=================================================================\n",
            " flatten_3 (Flatten)         (None, 784)               0         \n",
            "                                                                 \n",
            " dense_18 (Dense)            (None, 600)               471000    \n",
            "                                                                 \n",
            " leaky_re_lu (LeakyReLU)     (None, 600)               0         \n",
            "                                                                 \n",
            " dense_19 (Dense)            (None, 300)               180300    \n",
            "                                                                 \n",
            " leaky_re_lu_1 (LeakyReLU)   (None, 300)               0         \n",
            "                                                                 \n",
            " dense_20 (Dense)            (None, 200)               60200     \n",
            "                                                                 \n",
            " leaky_re_lu_2 (LeakyReLU)   (None, 200)               0         \n",
            "                                                                 \n",
            " dense_21 (Dense)            (None, 100)               20100     \n",
            "                                                                 \n",
            " leaky_re_lu_3 (LeakyReLU)   (None, 100)               0         \n",
            "                                                                 \n",
            " dense_22 (Dense)            (None, 50)                5050      \n",
            "                                                                 \n",
            " leaky_re_lu_4 (LeakyReLU)   (None, 50)                0         \n",
            "                                                                 \n",
            " dense_23 (Dense)            (None, 10)                510       \n",
            "                                                                 \n",
            "=================================================================\n",
            "Total params: 737160 (2.81 MB)\n",
            "Trainable params: 737160 (2.81 MB)\n",
            "Non-trainable params: 0 (0.00 Byte)\n",
            "_________________________________________________________________\n"
          ]
        }
      ]
    },
    {
      "cell_type": "code",
      "source": [
        "model.compile(loss=\"sparse_categorical_crossentropy\",\n",
        "              optimizer=\"adam\",\n",
        "              metrics=[\"accuracy\"])"
      ],
      "metadata": {
        "id": "2xsclduDO15i"
      },
      "execution_count": null,
      "outputs": []
    },
    {
      "cell_type": "code",
      "source": [
        "model.fit(X_train, y_train, epochs=5, validation_data=(X_valid, y_valid))"
      ],
      "metadata": {
        "colab": {
          "base_uri": "https://localhost:8080/"
        },
        "id": "uyU66pRtO6Tb",
        "outputId": "8118330a-4124-4789-9d2a-dc1958257dbf"
      },
      "execution_count": null,
      "outputs": [
        {
          "output_type": "stream",
          "name": "stdout",
          "text": [
            "Epoch 1/5\n",
            "1594/1594 [==============================] - 25s 15ms/step - loss: 0.2397 - accuracy: 0.9271 - val_loss: 0.1307 - val_accuracy: 0.9624\n",
            "Epoch 2/5\n",
            "1594/1594 [==============================] - 25s 16ms/step - loss: 0.1318 - accuracy: 0.9603 - val_loss: 0.1373 - val_accuracy: 0.9624\n",
            "Epoch 3/5\n",
            "1594/1594 [==============================] - 22s 14ms/step - loss: 0.1037 - accuracy: 0.9685 - val_loss: 0.1135 - val_accuracy: 0.9677\n",
            "Epoch 4/5\n",
            "1594/1594 [==============================] - 24s 15ms/step - loss: 0.0885 - accuracy: 0.9728 - val_loss: 0.1153 - val_accuracy: 0.9710\n",
            "Epoch 5/5\n",
            "1594/1594 [==============================] - 23s 15ms/step - loss: 0.0747 - accuracy: 0.9774 - val_loss: 0.1288 - val_accuracy: 0.9668\n"
          ]
        },
        {
          "output_type": "execute_result",
          "data": {
            "text/plain": [
              "<keras.src.callbacks.History at 0x78ae9352b070>"
            ]
          },
          "metadata": {},
          "execution_count": 26
        }
      ]
    },
    {
      "cell_type": "code",
      "source": [
        "model.evaluate(X_test, y_test)"
      ],
      "metadata": {
        "colab": {
          "base_uri": "https://localhost:8080/"
        },
        "id": "4arBiqEIO8g6",
        "outputId": "e1852984-5ff5-483d-9d34-a9e9adf7fb27"
      },
      "execution_count": null,
      "outputs": [
        {
          "output_type": "stream",
          "name": "stdout",
          "text": [
            "313/313 [==============================] - 1s 4ms/step - loss: 0.1213 - accuracy: 0.9684\n"
          ]
        },
        {
          "output_type": "execute_result",
          "data": {
            "text/plain": [
              "[0.12128470093011856, 0.9684000015258789]"
            ]
          },
          "metadata": {},
          "execution_count": 27
        }
      ]
    },
    {
      "cell_type": "markdown",
      "source": [
        "**Again, 97%. Not bad at all. Next I will test my model manually.**\n",
        "```\n",
        "\n"
      ],
      "metadata": {
        "id": "GqZ3F-rrP49K"
      }
    },
    {
      "cell_type": "code",
      "source": [
        "X_new = X_test[:1]"
      ],
      "metadata": {
        "id": "_vkCLp-XQuxb"
      },
      "execution_count": null,
      "outputs": []
    },
    {
      "cell_type": "code",
      "source": [
        "y_pred = model.predict(X_new)"
      ],
      "metadata": {
        "colab": {
          "base_uri": "https://localhost:8080/"
        },
        "id": "z3-ZsF78Z-Sb",
        "outputId": "aca65906-be86-4a75-fdf3-3b06ac854815"
      },
      "execution_count": null,
      "outputs": [
        {
          "output_type": "stream",
          "name": "stdout",
          "text": [
            "1/1 [==============================] - 0s 133ms/step\n"
          ]
        }
      ]
    },
    {
      "cell_type": "code",
      "source": [
        "y_pred.round(2)"
      ],
      "metadata": {
        "colab": {
          "base_uri": "https://localhost:8080/"
        },
        "id": "3zmWDMu7aEKa",
        "outputId": "b0a0cd9f-3ded-424f-b587-226aed8f559f"
      },
      "execution_count": null,
      "outputs": [
        {
          "output_type": "execute_result",
          "data": {
            "text/plain": [
              "array([[0., 0., 0., 0., 0., 0., 0., 1., 0., 0.]], dtype=float32)"
            ]
          },
          "metadata": {},
          "execution_count": 30
        }
      ]
    },
    {
      "cell_type": "code",
      "source": [
        "from matplotlib import pyplot\n",
        "\n",
        "pyplot.subplot(330 + 1 + 1)\n",
        "pyplot.imshow(X_train[1], cmap=pyplot.get_cmap('gray'))\n",
        "pyplot.show()"
      ],
      "metadata": {
        "colab": {
          "base_uri": "https://localhost:8080/",
          "height": 172
        },
        "id": "FpPcgIihasiQ",
        "outputId": "24d83b77-9de4-4eac-eaf6-856d6673c839"
      },
      "execution_count": null,
      "outputs": [
        {
          "output_type": "display_data",
          "data": {
            "text/plain": [
              "<Figure size 640x480 with 1 Axes>"
            ],
            "image/png": "[encoded data removed]"
          },
          "metadata": {}
        }
      ]
    },
    {
      "cell_type": "code",
      "source": [
        "X_new = X_test[10:11]"
      ],
      "metadata": {
        "id": "3-sFPRb4bVo1"
      },
      "execution_count": null,
      "outputs": []
    },
    {
      "cell_type": "code",
      "source": [
        "y_pred = model.predict(X_new)"
      ],
      "metadata": {
        "colab": {
          "base_uri": "https://localhost:8080/"
        },
        "id": "xV_pAJIJbvFi",
        "outputId": "3b6c732d-7eb9-4935-a154-0c66dbef5683"
      },
      "execution_count": null,
      "outputs": [
        {
          "output_type": "stream",
          "name": "stdout",
          "text": [
            "1/1 [==============================] - 0s 25ms/step\n"
          ]
        }
      ]
    },
    {
      "cell_type": "code",
      "source": [
        "y_pred.round(2)"
      ],
      "metadata": {
        "colab": {
          "base_uri": "https://localhost:8080/"
        },
        "id": "FW7gOirxbxEi",
        "outputId": "265463b7-39d1-4c2f-cd9a-7deec557f6d1"
      },
      "execution_count": null,
      "outputs": [
        {
          "output_type": "execute_result",
          "data": {
            "text/plain": [
              "array([[1., 0., 0., 0., 0., 0., 0., 0., 0., 0.]], dtype=float32)"
            ]
          },
          "metadata": {},
          "execution_count": 34
        }
      ]
    },
    {
      "cell_type": "code",
      "source": [
        "pyplot.subplot(330 + 1 + 1)\n",
        "pyplot.imshow(X_train[11], cmap=pyplot.get_cmap('gray'))\n",
        "pyplot.show()"
      ],
      "metadata": {
        "colab": {
          "base_uri": "https://localhost:8080/",
          "height": 54
        },
        "id": "OzjfkO5BcEkB",
        "outputId": "9e411816-d519-46e2-f54b-561dbfce82fb"
      },
      "execution_count": null,
      "outputs": [
        {
          "output_type": "display_data",
          "data": {
            "text/plain": [
              "<Figure size 640x480 with 1 Axes>"
            ],
            "image/png": "[encoded data removed]"
          },
          "metadata": {}
        }
      ]
    },
    {
      "cell_type": "markdown",
      "source": [
        "**Looks like it works well.**"
      ],
      "metadata": {
        "id": "BE3_8uJHcuet"
      }
    },
    {
      "cell_type": "markdown",
      "source": [
        "In conclusion, while I did create four separate models in this assignment, all of them performed very similarly. While most of the models were fairly similar, I was expecting to have some sort of shift in accuracy from removing the batch normalization and using leakyReLU instead. I am curious to continue to play around with this moving forward and trying to get a better understanding of how to best tune these hyperparameters."
      ],
      "metadata": {
        "id": "yHUH2rHyaPvz"
      }
    },
    {
      "cell_type": "code",
      "source": [],
      "metadata": {
        "id": "Wx8GaSCcb9eP"
      },
      "execution_count": null,
      "outputs": []
    }
  ]
}